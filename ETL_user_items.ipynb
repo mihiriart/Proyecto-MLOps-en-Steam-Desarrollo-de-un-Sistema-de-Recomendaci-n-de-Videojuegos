{
 "cells": [
  {
   "cell_type": "markdown",
   "metadata": {},
   "source": [
    "ETL_australian_user_items.json\n"
   ]
  },
  {
   "cell_type": "markdown",
   "metadata": {},
   "source": [
    "Importo las librerías "
   ]
  },
  {
   "cell_type": "code",
   "execution_count": 1,
   "metadata": {},
   "outputs": [],
   "source": [
    "import json\n",
    "import ast\n",
    "import re\n",
    "import numpy as np\n",
    "import pandas as pd\n",
    "import matplotlib.pyplot as plt \n",
    "import seaborn as sns\n",
    "import pyarrow as pa\n",
    "import pyarrow.parquet as pq"
   ]
  },
  {
   "cell_type": "code",
   "execution_count": 2,
   "metadata": {},
   "outputs": [
    {
     "data": {
      "text/html": [
       "<div>\n",
       "<style scoped>\n",
       "    .dataframe tbody tr th:only-of-type {\n",
       "        vertical-align: middle;\n",
       "    }\n",
       "\n",
       "    .dataframe tbody tr th {\n",
       "        vertical-align: top;\n",
       "    }\n",
       "\n",
       "    .dataframe thead th {\n",
       "        text-align: right;\n",
       "    }\n",
       "</style>\n",
       "<table border=\"1\" class=\"dataframe\">\n",
       "  <thead>\n",
       "    <tr style=\"text-align: right;\">\n",
       "      <th></th>\n",
       "      <th>user_id</th>\n",
       "      <th>items_count</th>\n",
       "      <th>steam_id</th>\n",
       "      <th>user_url</th>\n",
       "      <th>items</th>\n",
       "    </tr>\n",
       "  </thead>\n",
       "  <tbody>\n",
       "    <tr>\n",
       "      <th>0</th>\n",
       "      <td>76561197970982479</td>\n",
       "      <td>277</td>\n",
       "      <td>76561197970982479</td>\n",
       "      <td>http://steamcommunity.com/profiles/76561197970...</td>\n",
       "      <td>[{'item_id': '10', 'item_name': 'Counter-Strik...</td>\n",
       "    </tr>\n",
       "    <tr>\n",
       "      <th>1</th>\n",
       "      <td>js41637</td>\n",
       "      <td>888</td>\n",
       "      <td>76561198035864385</td>\n",
       "      <td>http://steamcommunity.com/id/js41637</td>\n",
       "      <td>[{'item_id': '10', 'item_name': 'Counter-Strik...</td>\n",
       "    </tr>\n",
       "    <tr>\n",
       "      <th>2</th>\n",
       "      <td>evcentric</td>\n",
       "      <td>137</td>\n",
       "      <td>76561198007712555</td>\n",
       "      <td>http://steamcommunity.com/id/evcentric</td>\n",
       "      <td>[{'item_id': '1200', 'item_name': 'Red Orchest...</td>\n",
       "    </tr>\n",
       "    <tr>\n",
       "      <th>3</th>\n",
       "      <td>Riot-Punch</td>\n",
       "      <td>328</td>\n",
       "      <td>76561197963445855</td>\n",
       "      <td>http://steamcommunity.com/id/Riot-Punch</td>\n",
       "      <td>[{'item_id': '10', 'item_name': 'Counter-Strik...</td>\n",
       "    </tr>\n",
       "    <tr>\n",
       "      <th>4</th>\n",
       "      <td>doctr</td>\n",
       "      <td>541</td>\n",
       "      <td>76561198002099482</td>\n",
       "      <td>http://steamcommunity.com/id/doctr</td>\n",
       "      <td>[{'item_id': '300', 'item_name': 'Day of Defea...</td>\n",
       "    </tr>\n",
       "  </tbody>\n",
       "</table>\n",
       "</div>"
      ],
      "text/plain": [
       "             user_id  items_count           steam_id  \\\n",
       "0  76561197970982479          277  76561197970982479   \n",
       "1            js41637          888  76561198035864385   \n",
       "2          evcentric          137  76561198007712555   \n",
       "3         Riot-Punch          328  76561197963445855   \n",
       "4              doctr          541  76561198002099482   \n",
       "\n",
       "                                            user_url  \\\n",
       "0  http://steamcommunity.com/profiles/76561197970...   \n",
       "1               http://steamcommunity.com/id/js41637   \n",
       "2             http://steamcommunity.com/id/evcentric   \n",
       "3            http://steamcommunity.com/id/Riot-Punch   \n",
       "4                 http://steamcommunity.com/id/doctr   \n",
       "\n",
       "                                               items  \n",
       "0  [{'item_id': '10', 'item_name': 'Counter-Strik...  \n",
       "1  [{'item_id': '10', 'item_name': 'Counter-Strik...  \n",
       "2  [{'item_id': '1200', 'item_name': 'Red Orchest...  \n",
       "3  [{'item_id': '10', 'item_name': 'Counter-Strik...  \n",
       "4  [{'item_id': '300', 'item_name': 'Day of Defea...  "
      ]
     },
     "execution_count": 2,
     "metadata": {},
     "output_type": "execute_result"
    }
   ],
   "source": [
    "row = []  # creamos una lista vacia para ir agregando las filas del archivo json\n",
    "\n",
    "with open(\"Data/users_items.json\", encoding=\"utf-8\") as file:\n",
    "    for line in file:\n",
    "        # Utilizamos ast.literal_eval para interpretar la línea como expresión literal de Python\n",
    "        # Luego, convertimos la expresión evaluada a formato JSON utilizando json.dumps\n",
    "        row.append(json.loads(json.dumps(ast.literal_eval(line))))\n",
    "\n",
    "# Creamos un dataframe con la lista de diccionarios\n",
    "items = pd.DataFrame(row)\n",
    "items.head()\n"
   ]
  },
  {
   "cell_type": "code",
   "execution_count": 3,
   "metadata": {},
   "outputs": [
    {
     "data": {
      "text/plain": [
       "(88310, 5)"
      ]
     },
     "execution_count": 3,
     "metadata": {},
     "output_type": "execute_result"
    }
   ],
   "source": [
    "items.shape"
   ]
  },
  {
   "cell_type": "markdown",
   "metadata": {},
   "source": [
    "TRANSFORMACIÓN DE DATASET\n",
    "El proceso de transformación del dataset implica la desanidación de una lista con diccionarios contenida en la columna \"items\". La columna \"items\" presenta datos anidados, constituyendo una lista de diccionarios. Para abordar esta estructura, se emplea un método de normalización que conserva la columna \"items\" como el eje organizador, permitiendo mantener las claves de los diccionarios como columnas individuales en el dataset resultante."
   ]
  },
  {
   "cell_type": "code",
   "execution_count": 3,
   "metadata": {},
   "outputs": [
    {
     "data": {
      "text/html": [
       "<div>\n",
       "<style scoped>\n",
       "    .dataframe tbody tr th:only-of-type {\n",
       "        vertical-align: middle;\n",
       "    }\n",
       "\n",
       "    .dataframe tbody tr th {\n",
       "        vertical-align: top;\n",
       "    }\n",
       "\n",
       "    .dataframe thead th {\n",
       "        text-align: right;\n",
       "    }\n",
       "</style>\n",
       "<table border=\"1\" class=\"dataframe\">\n",
       "  <thead>\n",
       "    <tr style=\"text-align: right;\">\n",
       "      <th></th>\n",
       "      <th>item_id</th>\n",
       "      <th>item_name</th>\n",
       "      <th>playtime_forever</th>\n",
       "      <th>playtime_2weeks</th>\n",
       "      <th>steam_id</th>\n",
       "      <th>items_count</th>\n",
       "      <th>user_id</th>\n",
       "      <th>user_url</th>\n",
       "    </tr>\n",
       "  </thead>\n",
       "  <tbody>\n",
       "    <tr>\n",
       "      <th>0</th>\n",
       "      <td>10</td>\n",
       "      <td>Counter-Strike</td>\n",
       "      <td>6</td>\n",
       "      <td>0</td>\n",
       "      <td>76561197970982479</td>\n",
       "      <td>277</td>\n",
       "      <td>76561197970982479</td>\n",
       "      <td>http://steamcommunity.com/profiles/76561197970...</td>\n",
       "    </tr>\n",
       "    <tr>\n",
       "      <th>1</th>\n",
       "      <td>20</td>\n",
       "      <td>Team Fortress Classic</td>\n",
       "      <td>0</td>\n",
       "      <td>0</td>\n",
       "      <td>76561197970982479</td>\n",
       "      <td>277</td>\n",
       "      <td>76561197970982479</td>\n",
       "      <td>http://steamcommunity.com/profiles/76561197970...</td>\n",
       "    </tr>\n",
       "    <tr>\n",
       "      <th>2</th>\n",
       "      <td>30</td>\n",
       "      <td>Day of Defeat</td>\n",
       "      <td>7</td>\n",
       "      <td>0</td>\n",
       "      <td>76561197970982479</td>\n",
       "      <td>277</td>\n",
       "      <td>76561197970982479</td>\n",
       "      <td>http://steamcommunity.com/profiles/76561197970...</td>\n",
       "    </tr>\n",
       "    <tr>\n",
       "      <th>3</th>\n",
       "      <td>40</td>\n",
       "      <td>Deathmatch Classic</td>\n",
       "      <td>0</td>\n",
       "      <td>0</td>\n",
       "      <td>76561197970982479</td>\n",
       "      <td>277</td>\n",
       "      <td>76561197970982479</td>\n",
       "      <td>http://steamcommunity.com/profiles/76561197970...</td>\n",
       "    </tr>\n",
       "    <tr>\n",
       "      <th>4</th>\n",
       "      <td>50</td>\n",
       "      <td>Half-Life: Opposing Force</td>\n",
       "      <td>0</td>\n",
       "      <td>0</td>\n",
       "      <td>76561197970982479</td>\n",
       "      <td>277</td>\n",
       "      <td>76561197970982479</td>\n",
       "      <td>http://steamcommunity.com/profiles/76561197970...</td>\n",
       "    </tr>\n",
       "  </tbody>\n",
       "</table>\n",
       "</div>"
      ],
      "text/plain": [
       "  item_id                  item_name  playtime_forever  playtime_2weeks  \\\n",
       "0      10             Counter-Strike                 6                0   \n",
       "1      20      Team Fortress Classic                 0                0   \n",
       "2      30              Day of Defeat                 7                0   \n",
       "3      40         Deathmatch Classic                 0                0   \n",
       "4      50  Half-Life: Opposing Force                 0                0   \n",
       "\n",
       "            steam_id items_count            user_id  \\\n",
       "0  76561197970982479         277  76561197970982479   \n",
       "1  76561197970982479         277  76561197970982479   \n",
       "2  76561197970982479         277  76561197970982479   \n",
       "3  76561197970982479         277  76561197970982479   \n",
       "4  76561197970982479         277  76561197970982479   \n",
       "\n",
       "                                            user_url  \n",
       "0  http://steamcommunity.com/profiles/76561197970...  \n",
       "1  http://steamcommunity.com/profiles/76561197970...  \n",
       "2  http://steamcommunity.com/profiles/76561197970...  \n",
       "3  http://steamcommunity.com/profiles/76561197970...  \n",
       "4  http://steamcommunity.com/profiles/76561197970...  "
      ]
     },
     "execution_count": 3,
     "metadata": {},
     "output_type": "execute_result"
    }
   ],
   "source": [
    "# Normalizamos la columna 'items'\n",
    "normalizado = pd.json_normalize(row, record_path=['items'], meta=['steam_id','items_count','user_id', 'user_url'] )\n",
    "normalizado.head()"
   ]
  },
  {
   "cell_type": "code",
   "execution_count": 5,
   "metadata": {},
   "outputs": [
    {
     "data": {
      "text/plain": [
       "(5153209, 8)"
      ]
     },
     "execution_count": 5,
     "metadata": {},
     "output_type": "execute_result"
    }
   ],
   "source": [
    "normalizado.shape"
   ]
  },
  {
   "cell_type": "code",
   "execution_count": 4,
   "metadata": {},
   "outputs": [
    {
     "data": {
      "text/html": [
       "<div>\n",
       "<style scoped>\n",
       "    .dataframe tbody tr th:only-of-type {\n",
       "        vertical-align: middle;\n",
       "    }\n",
       "\n",
       "    .dataframe tbody tr th {\n",
       "        vertical-align: top;\n",
       "    }\n",
       "\n",
       "    .dataframe thead th {\n",
       "        text-align: right;\n",
       "    }\n",
       "</style>\n",
       "<table border=\"1\" class=\"dataframe\">\n",
       "  <thead>\n",
       "    <tr style=\"text-align: right;\">\n",
       "      <th></th>\n",
       "      <th>columna</th>\n",
       "      <th>tipos_de_datos</th>\n",
       "    </tr>\n",
       "  </thead>\n",
       "  <tbody>\n",
       "    <tr>\n",
       "      <th>0</th>\n",
       "      <td>item_id</td>\n",
       "      <td>[&lt;class 'str'&gt;]</td>\n",
       "    </tr>\n",
       "    <tr>\n",
       "      <th>1</th>\n",
       "      <td>item_name</td>\n",
       "      <td>[&lt;class 'str'&gt;]</td>\n",
       "    </tr>\n",
       "    <tr>\n",
       "      <th>2</th>\n",
       "      <td>playtime_forever</td>\n",
       "      <td>[&lt;class 'int'&gt;]</td>\n",
       "    </tr>\n",
       "    <tr>\n",
       "      <th>3</th>\n",
       "      <td>playtime_2weeks</td>\n",
       "      <td>[&lt;class 'int'&gt;]</td>\n",
       "    </tr>\n",
       "    <tr>\n",
       "      <th>4</th>\n",
       "      <td>steam_id</td>\n",
       "      <td>[&lt;class 'str'&gt;]</td>\n",
       "    </tr>\n",
       "    <tr>\n",
       "      <th>5</th>\n",
       "      <td>items_count</td>\n",
       "      <td>[&lt;class 'int'&gt;]</td>\n",
       "    </tr>\n",
       "    <tr>\n",
       "      <th>6</th>\n",
       "      <td>user_id</td>\n",
       "      <td>[&lt;class 'str'&gt;]</td>\n",
       "    </tr>\n",
       "    <tr>\n",
       "      <th>7</th>\n",
       "      <td>user_url</td>\n",
       "      <td>[&lt;class 'str'&gt;]</td>\n",
       "    </tr>\n",
       "  </tbody>\n",
       "</table>\n",
       "</div>"
      ],
      "text/plain": [
       "            columna   tipos_de_datos\n",
       "0           item_id  [<class 'str'>]\n",
       "1         item_name  [<class 'str'>]\n",
       "2  playtime_forever  [<class 'int'>]\n",
       "3   playtime_2weeks  [<class 'int'>]\n",
       "4          steam_id  [<class 'str'>]\n",
       "5       items_count  [<class 'int'>]\n",
       "6           user_id  [<class 'str'>]\n",
       "7          user_url  [<class 'str'>]"
      ]
     },
     "execution_count": 4,
     "metadata": {},
     "output_type": "execute_result"
    }
   ],
   "source": [
    "tipo_data = {\"columna\":[],\"tipos_de_datos\":[]} # Generamos un diccionario vacio para ir almacenando lo que genere el bucle\n",
    "\n",
    "for columna in normalizado.columns: # Recorremos las columnas del dataframe \n",
    "    tipo_data[\"columna\"].append(columna) # Agregamos el nombre de la columna\n",
    "    tipo_data[\"tipos_de_datos\"].append(normalizado[columna].apply(type).unique()) # Agregamos los tipos de datos que hay en la columna\n",
    "\n",
    "analisis= pd.DataFrame(tipo_data) # Creamos un dataframe con el diccionario\n",
    "analisis"
   ]
  },
  {
   "cell_type": "code",
   "execution_count": 5,
   "metadata": {},
   "outputs": [
    {
     "name": "stdout",
     "output_type": "stream",
     "text": [
      "<class 'pandas.core.frame.DataFrame'>\n",
      "RangeIndex: 5153209 entries, 0 to 5153208\n",
      "Data columns (total 8 columns):\n",
      " #   Column            Dtype \n",
      "---  ------            ----- \n",
      " 0   item_id           object\n",
      " 1   item_name         object\n",
      " 2   playtime_forever  int64 \n",
      " 3   playtime_2weeks   int64 \n",
      " 4   steam_id          object\n",
      " 5   items_count       object\n",
      " 6   user_id           object\n",
      " 7   user_url          object\n",
      "dtypes: int64(2), object(6)\n",
      "memory usage: 314.5+ MB\n"
     ]
    }
   ],
   "source": [
    "normalizado.info()"
   ]
  },
  {
   "cell_type": "markdown",
   "metadata": {},
   "source": [
    "BUSQUEDA DE DUPLICADOS \n",
    "\n",
    "En este dataframe la busqueda la búsqueda y eliminación nulos se realiza después de la normalización, debido a la gran cantidad de datos anidados en la columna \"items\", a modo de perder los datos sin ser analizados "
   ]
  },
  {
   "cell_type": "code",
   "execution_count": 6,
   "metadata": {},
   "outputs": [
    {
     "data": {
      "text/html": [
       "<div>\n",
       "<style scoped>\n",
       "    .dataframe tbody tr th:only-of-type {\n",
       "        vertical-align: middle;\n",
       "    }\n",
       "\n",
       "    .dataframe tbody tr th {\n",
       "        vertical-align: top;\n",
       "    }\n",
       "\n",
       "    .dataframe thead th {\n",
       "        text-align: right;\n",
       "    }\n",
       "</style>\n",
       "<table border=\"1\" class=\"dataframe\">\n",
       "  <thead>\n",
       "    <tr style=\"text-align: right;\">\n",
       "      <th></th>\n",
       "      <th>item_id</th>\n",
       "      <th>item_name</th>\n",
       "      <th>playtime_forever</th>\n",
       "      <th>playtime_2weeks</th>\n",
       "      <th>steam_id</th>\n",
       "      <th>items_count</th>\n",
       "      <th>user_id</th>\n",
       "      <th>user_url</th>\n",
       "    </tr>\n",
       "  </thead>\n",
       "  <tbody>\n",
       "    <tr>\n",
       "      <th>164294</th>\n",
       "      <td>20</td>\n",
       "      <td>Team Fortress Classic</td>\n",
       "      <td>5</td>\n",
       "      <td>0</td>\n",
       "      <td>76561198084006094</td>\n",
       "      <td>109</td>\n",
       "      <td>Nikiad</td>\n",
       "      <td>http://steamcommunity.com/id/Nikiad</td>\n",
       "    </tr>\n",
       "    <tr>\n",
       "      <th>164295</th>\n",
       "      <td>50</td>\n",
       "      <td>Half-Life: Opposing Force</td>\n",
       "      <td>0</td>\n",
       "      <td>0</td>\n",
       "      <td>76561198084006094</td>\n",
       "      <td>109</td>\n",
       "      <td>Nikiad</td>\n",
       "      <td>http://steamcommunity.com/id/Nikiad</td>\n",
       "    </tr>\n",
       "    <tr>\n",
       "      <th>164296</th>\n",
       "      <td>70</td>\n",
       "      <td>Half-Life</td>\n",
       "      <td>0</td>\n",
       "      <td>0</td>\n",
       "      <td>76561198084006094</td>\n",
       "      <td>109</td>\n",
       "      <td>Nikiad</td>\n",
       "      <td>http://steamcommunity.com/id/Nikiad</td>\n",
       "    </tr>\n",
       "    <tr>\n",
       "      <th>164297</th>\n",
       "      <td>130</td>\n",
       "      <td>Half-Life: Blue Shift</td>\n",
       "      <td>0</td>\n",
       "      <td>0</td>\n",
       "      <td>76561198084006094</td>\n",
       "      <td>109</td>\n",
       "      <td>Nikiad</td>\n",
       "      <td>http://steamcommunity.com/id/Nikiad</td>\n",
       "    </tr>\n",
       "    <tr>\n",
       "      <th>164298</th>\n",
       "      <td>220</td>\n",
       "      <td>Half-Life 2</td>\n",
       "      <td>198</td>\n",
       "      <td>0</td>\n",
       "      <td>76561198084006094</td>\n",
       "      <td>109</td>\n",
       "      <td>Nikiad</td>\n",
       "      <td>http://steamcommunity.com/id/Nikiad</td>\n",
       "    </tr>\n",
       "    <tr>\n",
       "      <th>...</th>\n",
       "      <td>...</td>\n",
       "      <td>...</td>\n",
       "      <td>...</td>\n",
       "      <td>...</td>\n",
       "      <td>...</td>\n",
       "      <td>...</td>\n",
       "      <td>...</td>\n",
       "      <td>...</td>\n",
       "    </tr>\n",
       "    <tr>\n",
       "      <th>4898223</th>\n",
       "      <td>213670</td>\n",
       "      <td>South Park™: The Stick of Truth™</td>\n",
       "      <td>725</td>\n",
       "      <td>0</td>\n",
       "      <td>76561198080057659</td>\n",
       "      <td>39</td>\n",
       "      <td>76561198080057659</td>\n",
       "      <td>http://steamcommunity.com/profiles/76561198080...</td>\n",
       "    </tr>\n",
       "    <tr>\n",
       "      <th>4898224</th>\n",
       "      <td>221910</td>\n",
       "      <td>The Stanley Parable</td>\n",
       "      <td>53</td>\n",
       "      <td>0</td>\n",
       "      <td>76561198080057659</td>\n",
       "      <td>39</td>\n",
       "      <td>76561198080057659</td>\n",
       "      <td>http://steamcommunity.com/profiles/76561198080...</td>\n",
       "    </tr>\n",
       "    <tr>\n",
       "      <th>4898225</th>\n",
       "      <td>261030</td>\n",
       "      <td>The Walking Dead: Season Two</td>\n",
       "      <td>253</td>\n",
       "      <td>0</td>\n",
       "      <td>76561198080057659</td>\n",
       "      <td>39</td>\n",
       "      <td>76561198080057659</td>\n",
       "      <td>http://steamcommunity.com/profiles/76561198080...</td>\n",
       "    </tr>\n",
       "    <tr>\n",
       "      <th>4898226</th>\n",
       "      <td>273110</td>\n",
       "      <td>Counter-Strike Nexon: Zombies</td>\n",
       "      <td>0</td>\n",
       "      <td>0</td>\n",
       "      <td>76561198080057659</td>\n",
       "      <td>39</td>\n",
       "      <td>76561198080057659</td>\n",
       "      <td>http://steamcommunity.com/profiles/76561198080...</td>\n",
       "    </tr>\n",
       "    <tr>\n",
       "      <th>4898227</th>\n",
       "      <td>730</td>\n",
       "      <td>Counter-Strike: Global Offensive</td>\n",
       "      <td>0</td>\n",
       "      <td>0</td>\n",
       "      <td>76561198080057659</td>\n",
       "      <td>39</td>\n",
       "      <td>76561198080057659</td>\n",
       "      <td>http://steamcommunity.com/profiles/76561198080...</td>\n",
       "    </tr>\n",
       "  </tbody>\n",
       "</table>\n",
       "<p>59104 rows × 8 columns</p>\n",
       "</div>"
      ],
      "text/plain": [
       "        item_id                         item_name  playtime_forever  \\\n",
       "164294       20             Team Fortress Classic                 5   \n",
       "164295       50         Half-Life: Opposing Force                 0   \n",
       "164296       70                         Half-Life                 0   \n",
       "164297      130             Half-Life: Blue Shift                 0   \n",
       "164298      220                       Half-Life 2               198   \n",
       "...         ...                               ...               ...   \n",
       "4898223  213670  South Park™: The Stick of Truth™               725   \n",
       "4898224  221910               The Stanley Parable                53   \n",
       "4898225  261030      The Walking Dead: Season Two               253   \n",
       "4898226  273110     Counter-Strike Nexon: Zombies                 0   \n",
       "4898227     730  Counter-Strike: Global Offensive                 0   \n",
       "\n",
       "         playtime_2weeks           steam_id items_count            user_id  \\\n",
       "164294                 0  76561198084006094         109             Nikiad   \n",
       "164295                 0  76561198084006094         109             Nikiad   \n",
       "164296                 0  76561198084006094         109             Nikiad   \n",
       "164297                 0  76561198084006094         109             Nikiad   \n",
       "164298                 0  76561198084006094         109             Nikiad   \n",
       "...                  ...                ...         ...                ...   \n",
       "4898223                0  76561198080057659          39  76561198080057659   \n",
       "4898224                0  76561198080057659          39  76561198080057659   \n",
       "4898225                0  76561198080057659          39  76561198080057659   \n",
       "4898226                0  76561198080057659          39  76561198080057659   \n",
       "4898227                0  76561198080057659          39  76561198080057659   \n",
       "\n",
       "                                                  user_url  \n",
       "164294                 http://steamcommunity.com/id/Nikiad  \n",
       "164295                 http://steamcommunity.com/id/Nikiad  \n",
       "164296                 http://steamcommunity.com/id/Nikiad  \n",
       "164297                 http://steamcommunity.com/id/Nikiad  \n",
       "164298                 http://steamcommunity.com/id/Nikiad  \n",
       "...                                                    ...  \n",
       "4898223  http://steamcommunity.com/profiles/76561198080...  \n",
       "4898224  http://steamcommunity.com/profiles/76561198080...  \n",
       "4898225  http://steamcommunity.com/profiles/76561198080...  \n",
       "4898226  http://steamcommunity.com/profiles/76561198080...  \n",
       "4898227  http://steamcommunity.com/profiles/76561198080...  \n",
       "\n",
       "[59104 rows x 8 columns]"
      ]
     },
     "execution_count": 6,
     "metadata": {},
     "output_type": "execute_result"
    }
   ],
   "source": [
    "duplicados = normalizado.loc[normalizado.duplicated()] # Se utilza la variable duplicados para guardar la busqueda y después compararlos\n",
    "duplicados"
   ]
  },
  {
   "cell_type": "markdown",
   "metadata": {},
   "source": [
    "SE ANALIZA LAS FILAS CON DATOS DUPLICADOS Y SE ELIMINAN "
   ]
  },
  {
   "cell_type": "code",
   "execution_count": 7,
   "metadata": {},
   "outputs": [
    {
     "data": {
      "text/html": [
       "<div>\n",
       "<style scoped>\n",
       "    .dataframe tbody tr th:only-of-type {\n",
       "        vertical-align: middle;\n",
       "    }\n",
       "\n",
       "    .dataframe tbody tr th {\n",
       "        vertical-align: top;\n",
       "    }\n",
       "\n",
       "    .dataframe thead th {\n",
       "        text-align: right;\n",
       "    }\n",
       "</style>\n",
       "<table border=\"1\" class=\"dataframe\">\n",
       "  <thead>\n",
       "    <tr style=\"text-align: right;\">\n",
       "      <th></th>\n",
       "      <th>item_id</th>\n",
       "      <th>item_name</th>\n",
       "      <th>playtime_forever</th>\n",
       "      <th>playtime_2weeks</th>\n",
       "      <th>steam_id</th>\n",
       "      <th>items_count</th>\n",
       "      <th>user_id</th>\n",
       "      <th>user_url</th>\n",
       "    </tr>\n",
       "  </thead>\n",
       "  <tbody>\n",
       "    <tr>\n",
       "      <th>0</th>\n",
       "      <td>10</td>\n",
       "      <td>Counter-Strike</td>\n",
       "      <td>6</td>\n",
       "      <td>0</td>\n",
       "      <td>76561197970982479</td>\n",
       "      <td>277</td>\n",
       "      <td>76561197970982479</td>\n",
       "      <td>http://steamcommunity.com/profiles/76561197970...</td>\n",
       "    </tr>\n",
       "    <tr>\n",
       "      <th>1</th>\n",
       "      <td>20</td>\n",
       "      <td>Team Fortress Classic</td>\n",
       "      <td>0</td>\n",
       "      <td>0</td>\n",
       "      <td>76561197970982479</td>\n",
       "      <td>277</td>\n",
       "      <td>76561197970982479</td>\n",
       "      <td>http://steamcommunity.com/profiles/76561197970...</td>\n",
       "    </tr>\n",
       "    <tr>\n",
       "      <th>2</th>\n",
       "      <td>30</td>\n",
       "      <td>Day of Defeat</td>\n",
       "      <td>7</td>\n",
       "      <td>0</td>\n",
       "      <td>76561197970982479</td>\n",
       "      <td>277</td>\n",
       "      <td>76561197970982479</td>\n",
       "      <td>http://steamcommunity.com/profiles/76561197970...</td>\n",
       "    </tr>\n",
       "    <tr>\n",
       "      <th>3</th>\n",
       "      <td>40</td>\n",
       "      <td>Deathmatch Classic</td>\n",
       "      <td>0</td>\n",
       "      <td>0</td>\n",
       "      <td>76561197970982479</td>\n",
       "      <td>277</td>\n",
       "      <td>76561197970982479</td>\n",
       "      <td>http://steamcommunity.com/profiles/76561197970...</td>\n",
       "    </tr>\n",
       "    <tr>\n",
       "      <th>4</th>\n",
       "      <td>50</td>\n",
       "      <td>Half-Life: Opposing Force</td>\n",
       "      <td>0</td>\n",
       "      <td>0</td>\n",
       "      <td>76561197970982479</td>\n",
       "      <td>277</td>\n",
       "      <td>76561197970982479</td>\n",
       "      <td>http://steamcommunity.com/profiles/76561197970...</td>\n",
       "    </tr>\n",
       "    <tr>\n",
       "      <th>...</th>\n",
       "      <td>...</td>\n",
       "      <td>...</td>\n",
       "      <td>...</td>\n",
       "      <td>...</td>\n",
       "      <td>...</td>\n",
       "      <td>...</td>\n",
       "      <td>...</td>\n",
       "      <td>...</td>\n",
       "    </tr>\n",
       "    <tr>\n",
       "      <th>5153204</th>\n",
       "      <td>346330</td>\n",
       "      <td>BrainBread 2</td>\n",
       "      <td>0</td>\n",
       "      <td>0</td>\n",
       "      <td>76561198329548331</td>\n",
       "      <td>7</td>\n",
       "      <td>76561198329548331</td>\n",
       "      <td>http://steamcommunity.com/profiles/76561198329...</td>\n",
       "    </tr>\n",
       "    <tr>\n",
       "      <th>5153205</th>\n",
       "      <td>373330</td>\n",
       "      <td>All Is Dust</td>\n",
       "      <td>0</td>\n",
       "      <td>0</td>\n",
       "      <td>76561198329548331</td>\n",
       "      <td>7</td>\n",
       "      <td>76561198329548331</td>\n",
       "      <td>http://steamcommunity.com/profiles/76561198329...</td>\n",
       "    </tr>\n",
       "    <tr>\n",
       "      <th>5153206</th>\n",
       "      <td>388490</td>\n",
       "      <td>One Way To Die: Steam Edition</td>\n",
       "      <td>3</td>\n",
       "      <td>3</td>\n",
       "      <td>76561198329548331</td>\n",
       "      <td>7</td>\n",
       "      <td>76561198329548331</td>\n",
       "      <td>http://steamcommunity.com/profiles/76561198329...</td>\n",
       "    </tr>\n",
       "    <tr>\n",
       "      <th>5153207</th>\n",
       "      <td>521570</td>\n",
       "      <td>You Have 10 Seconds 2</td>\n",
       "      <td>4</td>\n",
       "      <td>4</td>\n",
       "      <td>76561198329548331</td>\n",
       "      <td>7</td>\n",
       "      <td>76561198329548331</td>\n",
       "      <td>http://steamcommunity.com/profiles/76561198329...</td>\n",
       "    </tr>\n",
       "    <tr>\n",
       "      <th>5153208</th>\n",
       "      <td>519140</td>\n",
       "      <td>Minds Eyes</td>\n",
       "      <td>3</td>\n",
       "      <td>3</td>\n",
       "      <td>76561198329548331</td>\n",
       "      <td>7</td>\n",
       "      <td>76561198329548331</td>\n",
       "      <td>http://steamcommunity.com/profiles/76561198329...</td>\n",
       "    </tr>\n",
       "  </tbody>\n",
       "</table>\n",
       "<p>5094105 rows × 8 columns</p>\n",
       "</div>"
      ],
      "text/plain": [
       "        item_id                      item_name  playtime_forever  \\\n",
       "0            10                 Counter-Strike                 6   \n",
       "1            20          Team Fortress Classic                 0   \n",
       "2            30                  Day of Defeat                 7   \n",
       "3            40             Deathmatch Classic                 0   \n",
       "4            50      Half-Life: Opposing Force                 0   \n",
       "...         ...                            ...               ...   \n",
       "5153204  346330                   BrainBread 2                 0   \n",
       "5153205  373330                    All Is Dust                 0   \n",
       "5153206  388490  One Way To Die: Steam Edition                 3   \n",
       "5153207  521570          You Have 10 Seconds 2                 4   \n",
       "5153208  519140                     Minds Eyes                 3   \n",
       "\n",
       "         playtime_2weeks           steam_id items_count            user_id  \\\n",
       "0                      0  76561197970982479         277  76561197970982479   \n",
       "1                      0  76561197970982479         277  76561197970982479   \n",
       "2                      0  76561197970982479         277  76561197970982479   \n",
       "3                      0  76561197970982479         277  76561197970982479   \n",
       "4                      0  76561197970982479         277  76561197970982479   \n",
       "...                  ...                ...         ...                ...   \n",
       "5153204                0  76561198329548331           7  76561198329548331   \n",
       "5153205                0  76561198329548331           7  76561198329548331   \n",
       "5153206                3  76561198329548331           7  76561198329548331   \n",
       "5153207                4  76561198329548331           7  76561198329548331   \n",
       "5153208                3  76561198329548331           7  76561198329548331   \n",
       "\n",
       "                                                  user_url  \n",
       "0        http://steamcommunity.com/profiles/76561197970...  \n",
       "1        http://steamcommunity.com/profiles/76561197970...  \n",
       "2        http://steamcommunity.com/profiles/76561197970...  \n",
       "3        http://steamcommunity.com/profiles/76561197970...  \n",
       "4        http://steamcommunity.com/profiles/76561197970...  \n",
       "...                                                    ...  \n",
       "5153204  http://steamcommunity.com/profiles/76561198329...  \n",
       "5153205  http://steamcommunity.com/profiles/76561198329...  \n",
       "5153206  http://steamcommunity.com/profiles/76561198329...  \n",
       "5153207  http://steamcommunity.com/profiles/76561198329...  \n",
       "5153208  http://steamcommunity.com/profiles/76561198329...  \n",
       "\n",
       "[5094105 rows x 8 columns]"
      ]
     },
     "execution_count": 7,
     "metadata": {},
     "output_type": "execute_result"
    }
   ],
   "source": [
    "normalizado = normalizado.drop_duplicates(keep='first')\n",
    "normalizado"
   ]
  },
  {
   "cell_type": "markdown",
   "metadata": {},
   "source": [
    "Observando que me encuentro con un Dataset con 5.094.105 de registros, genera una demora de carga, memoria del sistema.\n",
    "No genera una optimización de los datos, se plantea revisar la cantidad de Filas donde las horas de juego sean 0 , donde ee encuentre una cantidad de registros importantes, se procede a eliminar.  \n"
   ]
  },
  {
   "cell_type": "code",
   "execution_count": 8,
   "metadata": {},
   "outputs": [
    {
     "data": {
      "text/plain": [
       "0        1847730\n",
       "1         101586\n",
       "2          34391\n",
       "3          31530\n",
       "4          29127\n",
       "          ...   \n",
       "76541          1\n",
       "64676          1\n",
       "53328          1\n",
       "44029          1\n",
       "34753          1\n",
       "Name: playtime_forever, Length: 48861, dtype: int64"
      ]
     },
     "execution_count": 8,
     "metadata": {},
     "output_type": "execute_result"
    }
   ],
   "source": [
    "normalizado['playtime_forever'].value_counts()"
   ]
  },
  {
   "cell_type": "code",
   "execution_count": 9,
   "metadata": {},
   "outputs": [],
   "source": [
    "# Filtrar y mantener solo las filas donde playtime_forever no es igual a 0\n",
    "normalizado = normalizado[normalizado['playtime_forever'] != 0]\n",
    "\n",
    "# Restablecer los índices después de filtrar\n",
    "normalizado = normalizado.reset_index(drop=True)"
   ]
  },
  {
   "cell_type": "code",
   "execution_count": 10,
   "metadata": {},
   "outputs": [
    {
     "data": {
      "text/plain": [
       "1        101586\n",
       "2         34391\n",
       "3         31530\n",
       "4         29127\n",
       "5         27612\n",
       "          ...  \n",
       "76541         1\n",
       "64676         1\n",
       "53328         1\n",
       "44029         1\n",
       "34753         1\n",
       "Name: playtime_forever, Length: 48860, dtype: int64"
      ]
     },
     "execution_count": 10,
     "metadata": {},
     "output_type": "execute_result"
    }
   ],
   "source": [
    "normalizado['playtime_forever'].value_counts()"
   ]
  },
  {
   "cell_type": "markdown",
   "metadata": {},
   "source": [
    "La columna \"playtime_forever\" se encuentra en minutos, decido a cambiarla por horas, por lo tanto creo una \n",
    "nueva columna. "
   ]
  },
  {
   "cell_type": "code",
   "execution_count": 11,
   "metadata": {},
   "outputs": [],
   "source": [
    "# Creamos la columna 'playtime_forever_hours' que es el resultado de dividir 'playtime_forever' por 60 y redondeando a 2 decimales\n",
    "normalizado['playtime_hours'] = round(normalizado['playtime_forever']/60,2)"
   ]
  },
  {
   "cell_type": "markdown",
   "metadata": {},
   "source": [
    "Se visualiza la cantidad de horas jugadas. "
   ]
  },
  {
   "cell_type": "code",
   "execution_count": 12,
   "metadata": {},
   "outputs": [
    {
     "data": {
      "text/plain": [
       "0.02       101586\n",
       "0.03        34391\n",
       "0.05        31530\n",
       "0.07        29127\n",
       "0.08        27612\n",
       "            ...  \n",
       "1275.68         1\n",
       "1077.93         1\n",
       "888.80          1\n",
       "733.82          1\n",
       "579.22          1\n",
       "Name: playtime_hours, Length: 48860, dtype: int64"
      ]
     },
     "execution_count": 12,
     "metadata": {},
     "output_type": "execute_result"
    }
   ],
   "source": [
    "normalizado['playtime_hours'].value_counts() # vemos la cantidad de horas jugadas"
   ]
  },
  {
   "cell_type": "markdown",
   "metadata": {},
   "source": [
    "Observando que la columna \"playtime_forever y \"playtime_2weeks\" las encuentro inecesarias para el análisis, procedo a eliminarlas de esta manera reduzco los datos del dataset.\t\n",
    "\t"
   ]
  },
  {
   "cell_type": "code",
   "execution_count": 13,
   "metadata": {},
   "outputs": [],
   "source": [
    "# Eliminamos las columnas 'playtime_2weeks' y 'playtime_2weeks' por no ser de utilidad para el análisis\n",
    "normalizado = normalizado.drop(['playtime_2weeks','playtime_forever'], axis=1)"
   ]
  },
  {
   "cell_type": "code",
   "execution_count": 14,
   "metadata": {},
   "outputs": [
    {
     "name": "stdout",
     "output_type": "stream",
     "text": [
      "<class 'pandas.core.frame.DataFrame'>\n",
      "RangeIndex: 3246375 entries, 0 to 3246374\n",
      "Data columns (total 7 columns):\n",
      " #   Column          Dtype  \n",
      "---  ------          -----  \n",
      " 0   item_id         object \n",
      " 1   item_name       object \n",
      " 2   steam_id        object \n",
      " 3   items_count     object \n",
      " 4   user_id         object \n",
      " 5   user_url        object \n",
      " 6   playtime_hours  float64\n",
      "dtypes: float64(1), object(6)\n",
      "memory usage: 173.4+ MB\n"
     ]
    }
   ],
   "source": [
    "normalizado.info()"
   ]
  },
  {
   "cell_type": "markdown",
   "metadata": {},
   "source": [
    "La columna \"user_url\" la encuentro no necesaria, dado que la información que brinda es solo la url del usuario \n",
    "en la plataforma de Steam. "
   ]
  },
  {
   "cell_type": "code",
   "execution_count": 15,
   "metadata": {},
   "outputs": [],
   "source": [
    "# Eliminamos la columna 'usr_url'\n",
    "normalizado = normalizado.drop(['user_url'], axis=1)"
   ]
  },
  {
   "cell_type": "markdown",
   "metadata": {},
   "source": [
    "Guardo el Datafarme para las consultas, transformandolo en una copia para no modificar el original, luego pasamos a guardarlo en una archivo.csv y por ultimo lo guardamos en una archivo parquet para optimizar su utilización. "
   ]
  },
  {
   "cell_type": "code",
   "execution_count": 17,
   "metadata": {},
   "outputs": [],
   "source": [
    "normalizado = normalizado.copy() # Copiamos el dataframe para no modificar el original"
   ]
  },
  {
   "cell_type": "code",
   "execution_count": 18,
   "metadata": {},
   "outputs": [],
   "source": [
    "normalizado.to_csv(\"Data/users_items.csv\", index=False, encoding=\"utf-8\") # Guardamos el dataframe en un archivo csv"
   ]
  },
  {
   "cell_type": "markdown",
   "metadata": {},
   "source": [
    "Este código me genera un error que es el siguiente: \"MemoryError\" indica que no hay suficiente memoria disponible para completar la operación. Este error surge cuando se intenta cargar en la memoria RAM una cantidad de datos que excede la capacidad disponible."
   ]
  },
  {
   "cell_type": "code",
   "execution_count": 19,
   "metadata": {},
   "outputs": [],
   "source": [
    "normalizado = pd.read_csv(\"Data/users_items.csv\") # Leemos el archivo csv\n",
    "\n",
    "tabla = pa.Table.from_pandas(normalizado) # Convertimos el dataframe en una tabla de pyarrow\n",
    "pq.write_table(tabla,\"Data/users_items.parquet\") # Guardamos la tabla en un archivo parquet"
   ]
  },
  {
   "cell_type": "markdown",
   "metadata": {},
   "source": [
    "Investigo cual es la solución: Me encuentro que se puede procesar los datos por partes para reducir el uso de memoria. \n",
    "Se dividen los archivos CSV en segemntos pequeños y se guarda en archivos parquet por separado, y se logar el resultado. \n",
    "\n"
   ]
  },
  {
   "cell_type": "code",
   "execution_count": 20,
   "metadata": {},
   "outputs": [],
   "source": [
    "import pandas as pd\n",
    "import pyarrow as pa\n",
    "import pyarrow.parquet as pq"
   ]
  },
  {
   "cell_type": "code",
   "execution_count": 21,
   "metadata": {},
   "outputs": [],
   "source": [
    "chunk_size = 100000  # Tamaño de los segmentos o chunks"
   ]
  },
  {
   "cell_type": "code",
   "execution_count": 22,
   "metadata": {},
   "outputs": [],
   "source": [
    "# Iterar sobre el archivo CSV en bloques y convertir cada bloque en archivos Parquet\n",
    "csv_file = \"Data/users_items.csv\"\n",
    "parquet_file = \"Data/users_items_{}.parquet\""
   ]
  },
  {
   "cell_type": "code",
   "execution_count": 23,
   "metadata": {},
   "outputs": [],
   "source": [
    "reader = pd.read_csv(csv_file, chunksize=chunk_size)\n",
    "i = 0\n",
    "\n",
    "for chunk in reader:\n",
    "    table = pa.Table.from_pandas(chunk)\n",
    "    pq.write_table(table, parquet_file.format(i))\n",
    "    i += 1"
   ]
  }
 ],
 "metadata": {
  "kernelspec": {
   "display_name": "Python 3",
   "language": "python",
   "name": "python3"
  },
  "language_info": {
   "codemirror_mode": {
    "name": "ipython",
    "version": 3
   },
   "file_extension": ".py",
   "mimetype": "text/x-python",
   "name": "python",
   "nbconvert_exporter": "python",
   "pygments_lexer": "ipython3",
   "version": "3.10.11"
  }
 },
 "nbformat": 4,
 "nbformat_minor": 2
}
