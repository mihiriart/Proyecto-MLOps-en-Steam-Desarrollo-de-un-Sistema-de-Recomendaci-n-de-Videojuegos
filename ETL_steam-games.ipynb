{
 "cells": [
  {
   "cell_type": "markdown",
   "metadata": {},
   "source": [
    "ETL_output_steam_games.json\n",
    "importamos las librerías "
   ]
  },
  {
   "cell_type": "code",
   "execution_count": 2,
   "metadata": {},
   "outputs": [],
   "source": [
    "import json\n",
    "import numpy as np\n",
    "import pandas as pd\n",
    "import matplotlib.pyplot as plt \n",
    "import seaborn as sns\n",
    "import pyarrow as pa\n",
    "import pyarrow.parquet as pq"
   ]
  },
  {
   "cell_type": "markdown",
   "metadata": {},
   "source": [
    "Exploración y Análisis "
   ]
  },
  {
   "cell_type": "code",
   "execution_count": 3,
   "metadata": {},
   "outputs": [
    {
     "data": {
      "text/html": [
       "<div>\n",
       "<style scoped>\n",
       "    .dataframe tbody tr th:only-of-type {\n",
       "        vertical-align: middle;\n",
       "    }\n",
       "\n",
       "    .dataframe tbody tr th {\n",
       "        vertical-align: top;\n",
       "    }\n",
       "\n",
       "    .dataframe thead th {\n",
       "        text-align: right;\n",
       "    }\n",
       "</style>\n",
       "<table border=\"1\" class=\"dataframe\">\n",
       "  <thead>\n",
       "    <tr style=\"text-align: right;\">\n",
       "      <th></th>\n",
       "      <th>publisher</th>\n",
       "      <th>genres</th>\n",
       "      <th>app_name</th>\n",
       "      <th>title</th>\n",
       "      <th>url</th>\n",
       "      <th>release_date</th>\n",
       "      <th>tags</th>\n",
       "      <th>reviews_url</th>\n",
       "      <th>specs</th>\n",
       "      <th>price</th>\n",
       "      <th>early_access</th>\n",
       "      <th>id</th>\n",
       "      <th>developer</th>\n",
       "    </tr>\n",
       "  </thead>\n",
       "  <tbody>\n",
       "    <tr>\n",
       "      <th>0</th>\n",
       "      <td>NaN</td>\n",
       "      <td>NaN</td>\n",
       "      <td>NaN</td>\n",
       "      <td>NaN</td>\n",
       "      <td>NaN</td>\n",
       "      <td>NaN</td>\n",
       "      <td>NaN</td>\n",
       "      <td>NaN</td>\n",
       "      <td>NaN</td>\n",
       "      <td>NaN</td>\n",
       "      <td>NaN</td>\n",
       "      <td>NaN</td>\n",
       "      <td>NaN</td>\n",
       "    </tr>\n",
       "    <tr>\n",
       "      <th>1</th>\n",
       "      <td>NaN</td>\n",
       "      <td>NaN</td>\n",
       "      <td>NaN</td>\n",
       "      <td>NaN</td>\n",
       "      <td>NaN</td>\n",
       "      <td>NaN</td>\n",
       "      <td>NaN</td>\n",
       "      <td>NaN</td>\n",
       "      <td>NaN</td>\n",
       "      <td>NaN</td>\n",
       "      <td>NaN</td>\n",
       "      <td>NaN</td>\n",
       "      <td>NaN</td>\n",
       "    </tr>\n",
       "    <tr>\n",
       "      <th>2</th>\n",
       "      <td>NaN</td>\n",
       "      <td>NaN</td>\n",
       "      <td>NaN</td>\n",
       "      <td>NaN</td>\n",
       "      <td>NaN</td>\n",
       "      <td>NaN</td>\n",
       "      <td>NaN</td>\n",
       "      <td>NaN</td>\n",
       "      <td>NaN</td>\n",
       "      <td>NaN</td>\n",
       "      <td>NaN</td>\n",
       "      <td>NaN</td>\n",
       "      <td>NaN</td>\n",
       "    </tr>\n",
       "    <tr>\n",
       "      <th>3</th>\n",
       "      <td>NaN</td>\n",
       "      <td>NaN</td>\n",
       "      <td>NaN</td>\n",
       "      <td>NaN</td>\n",
       "      <td>NaN</td>\n",
       "      <td>NaN</td>\n",
       "      <td>NaN</td>\n",
       "      <td>NaN</td>\n",
       "      <td>NaN</td>\n",
       "      <td>NaN</td>\n",
       "      <td>NaN</td>\n",
       "      <td>NaN</td>\n",
       "      <td>NaN</td>\n",
       "    </tr>\n",
       "    <tr>\n",
       "      <th>4</th>\n",
       "      <td>NaN</td>\n",
       "      <td>NaN</td>\n",
       "      <td>NaN</td>\n",
       "      <td>NaN</td>\n",
       "      <td>NaN</td>\n",
       "      <td>NaN</td>\n",
       "      <td>NaN</td>\n",
       "      <td>NaN</td>\n",
       "      <td>NaN</td>\n",
       "      <td>NaN</td>\n",
       "      <td>NaN</td>\n",
       "      <td>NaN</td>\n",
       "      <td>NaN</td>\n",
       "    </tr>\n",
       "  </tbody>\n",
       "</table>\n",
       "</div>"
      ],
      "text/plain": [
       "  publisher genres app_name title  url release_date tags reviews_url specs  \\\n",
       "0       NaN    NaN      NaN   NaN  NaN          NaN  NaN         NaN   NaN   \n",
       "1       NaN    NaN      NaN   NaN  NaN          NaN  NaN         NaN   NaN   \n",
       "2       NaN    NaN      NaN   NaN  NaN          NaN  NaN         NaN   NaN   \n",
       "3       NaN    NaN      NaN   NaN  NaN          NaN  NaN         NaN   NaN   \n",
       "4       NaN    NaN      NaN   NaN  NaN          NaN  NaN         NaN   NaN   \n",
       "\n",
       "  price early_access   id developer  \n",
       "0   NaN          NaN  NaN       NaN  \n",
       "1   NaN          NaN  NaN       NaN  \n",
       "2   NaN          NaN  NaN       NaN  \n",
       "3   NaN          NaN  NaN       NaN  \n",
       "4   NaN          NaN  NaN       NaN  "
      ]
     },
     "execution_count": 3,
     "metadata": {},
     "output_type": "execute_result"
    }
   ],
   "source": [
    "# Leemos el archivo json y lo guardamos en una lista\n",
    "row = [] # creamos una lista vacia para ir agregando las filas del archivo json\n",
    "with open (\"Data/steam_games.json\") as file: # abrimos el archivo json\n",
    "    for line in file.readlines(): # leemos linea por linea\n",
    "        data = json.loads(line)\n",
    "        row.append(data)\n",
    "\n",
    "# Convertimos la lista en un dataframe \n",
    "games = pd.DataFrame(row)\n",
    "games.head()"
   ]
  },
  {
   "cell_type": "code",
   "execution_count": 4,
   "metadata": {},
   "outputs": [
    {
     "data": {
      "text/plain": [
       "(120445, 13)"
      ]
     },
     "execution_count": 4,
     "metadata": {},
     "output_type": "execute_result"
    }
   ],
   "source": [
    "games.shape # Obtenemos la cantidad de filas y columnas"
   ]
  },
  {
   "cell_type": "code",
   "execution_count": 5,
   "metadata": {},
   "outputs": [
    {
     "data": {
      "text/html": [
       "<div>\n",
       "<style scoped>\n",
       "    .dataframe tbody tr th:only-of-type {\n",
       "        vertical-align: middle;\n",
       "    }\n",
       "\n",
       "    .dataframe tbody tr th {\n",
       "        vertical-align: top;\n",
       "    }\n",
       "\n",
       "    .dataframe thead th {\n",
       "        text-align: right;\n",
       "    }\n",
       "</style>\n",
       "<table border=\"1\" class=\"dataframe\">\n",
       "  <thead>\n",
       "    <tr style=\"text-align: right;\">\n",
       "      <th></th>\n",
       "      <th>publisher</th>\n",
       "      <th>genres</th>\n",
       "      <th>app_name</th>\n",
       "      <th>title</th>\n",
       "      <th>url</th>\n",
       "      <th>release_date</th>\n",
       "      <th>tags</th>\n",
       "      <th>reviews_url</th>\n",
       "      <th>specs</th>\n",
       "      <th>price</th>\n",
       "      <th>early_access</th>\n",
       "      <th>id</th>\n",
       "      <th>developer</th>\n",
       "    </tr>\n",
       "  </thead>\n",
       "  <tbody>\n",
       "    <tr>\n",
       "      <th>count</th>\n",
       "      <td>24083</td>\n",
       "      <td>28852</td>\n",
       "      <td>32133</td>\n",
       "      <td>30085</td>\n",
       "      <td>32135</td>\n",
       "      <td>30068</td>\n",
       "      <td>31972</td>\n",
       "      <td>32133</td>\n",
       "      <td>31465</td>\n",
       "      <td>30758.00</td>\n",
       "      <td>32135</td>\n",
       "      <td>32133</td>\n",
       "      <td>28836</td>\n",
       "    </tr>\n",
       "    <tr>\n",
       "      <th>unique</th>\n",
       "      <td>8239</td>\n",
       "      <td>883</td>\n",
       "      <td>32094</td>\n",
       "      <td>30054</td>\n",
       "      <td>32135</td>\n",
       "      <td>3582</td>\n",
       "      <td>15395</td>\n",
       "      <td>32132</td>\n",
       "      <td>4649</td>\n",
       "      <td>162.00</td>\n",
       "      <td>2</td>\n",
       "      <td>32132</td>\n",
       "      <td>10992</td>\n",
       "    </tr>\n",
       "    <tr>\n",
       "      <th>top</th>\n",
       "      <td>Ubisoft</td>\n",
       "      <td>[Action]</td>\n",
       "      <td>Soundtrack</td>\n",
       "      <td>Soundtrack</td>\n",
       "      <td>http://store.steampowered.com/app/761140/Lost_...</td>\n",
       "      <td>2012-10-16</td>\n",
       "      <td>[Casual, Simulation]</td>\n",
       "      <td>http://steamcommunity.com/app/612880/reviews/?...</td>\n",
       "      <td>[Single-player]</td>\n",
       "      <td>4.99</td>\n",
       "      <td>False</td>\n",
       "      <td>612880</td>\n",
       "      <td>Ubisoft - San Francisco</td>\n",
       "    </tr>\n",
       "    <tr>\n",
       "      <th>freq</th>\n",
       "      <td>385</td>\n",
       "      <td>1880</td>\n",
       "      <td>3</td>\n",
       "      <td>3</td>\n",
       "      <td>1</td>\n",
       "      <td>100</td>\n",
       "      <td>1292</td>\n",
       "      <td>2</td>\n",
       "      <td>2794</td>\n",
       "      <td>4278.00</td>\n",
       "      <td>30188</td>\n",
       "      <td>2</td>\n",
       "      <td>1259</td>\n",
       "    </tr>\n",
       "  </tbody>\n",
       "</table>\n",
       "</div>"
      ],
      "text/plain": [
       "       publisher    genres    app_name       title  \\\n",
       "count      24083     28852       32133       30085   \n",
       "unique      8239       883       32094       30054   \n",
       "top      Ubisoft  [Action]  Soundtrack  Soundtrack   \n",
       "freq         385      1880           3           3   \n",
       "\n",
       "                                                      url release_date  \\\n",
       "count                                               32135        30068   \n",
       "unique                                              32135         3582   \n",
       "top     http://store.steampowered.com/app/761140/Lost_...   2012-10-16   \n",
       "freq                                                    1          100   \n",
       "\n",
       "                        tags  \\\n",
       "count                  31972   \n",
       "unique                 15395   \n",
       "top     [Casual, Simulation]   \n",
       "freq                    1292   \n",
       "\n",
       "                                              reviews_url            specs  \\\n",
       "count                                               32133            31465   \n",
       "unique                                              32132             4649   \n",
       "top     http://steamcommunity.com/app/612880/reviews/?...  [Single-player]   \n",
       "freq                                                    2             2794   \n",
       "\n",
       "           price early_access      id                developer  \n",
       "count   30758.00        32135   32133                    28836  \n",
       "unique    162.00            2   32132                    10992  \n",
       "top         4.99        False  612880  Ubisoft - San Francisco  \n",
       "freq     4278.00        30188       2                     1259  "
      ]
     },
     "execution_count": 5,
     "metadata": {},
     "output_type": "execute_result"
    }
   ],
   "source": [
    "games.describe() # Obtenemos un resumen de las columnas numéricas"
   ]
  },
  {
   "cell_type": "code",
   "execution_count": 6,
   "metadata": {},
   "outputs": [
    {
     "name": "stdout",
     "output_type": "stream",
     "text": [
      "<class 'pandas.core.frame.DataFrame'>\n",
      "RangeIndex: 120445 entries, 0 to 120444\n",
      "Data columns (total 13 columns):\n",
      " #   Column        Non-Null Count  Dtype \n",
      "---  ------        --------------  ----- \n",
      " 0   publisher     24083 non-null  object\n",
      " 1   genres        28852 non-null  object\n",
      " 2   app_name      32133 non-null  object\n",
      " 3   title         30085 non-null  object\n",
      " 4   url           32135 non-null  object\n",
      " 5   release_date  30068 non-null  object\n",
      " 6   tags          31972 non-null  object\n",
      " 7   reviews_url   32133 non-null  object\n",
      " 8   specs         31465 non-null  object\n",
      " 9   price         30758 non-null  object\n",
      " 10  early_access  32135 non-null  object\n",
      " 11  id            32133 non-null  object\n",
      " 12  developer     28836 non-null  object\n",
      "dtypes: object(13)\n",
      "memory usage: 11.9+ MB\n"
     ]
    }
   ],
   "source": [
    "games.info() # Obtenemos informacion de las columnas"
   ]
  },
  {
   "cell_type": "code",
   "execution_count": 7,
   "metadata": {},
   "outputs": [
    {
     "data": {
      "text/plain": [
       "73.31977251027439"
      ]
     },
     "execution_count": 7,
     "metadata": {},
     "output_type": "execute_result"
    }
   ],
   "source": [
    "# revisamos el porcentaje de filas completamente nulas respecto al total de filas del dataframe\n",
    "total_filas = len(games)\n",
    "filas_nulas = games.isnull().all(axis=1).sum()\n",
    "porcentaje_filas_nulas = (filas_nulas / total_filas) * 100\n",
    "porcentaje_filas_nulas"
   ]
  },
  {
   "cell_type": "code",
   "execution_count": 8,
   "metadata": {},
   "outputs": [
    {
     "data": {
      "text/plain": [
       "publisher       80.004982\n",
       "genres          76.045498\n",
       "app_name        73.321433\n",
       "title           75.021794\n",
       "url             73.319773\n",
       "release_date    75.035909\n",
       "tags            73.455104\n",
       "reviews_url     73.321433\n",
       "specs           73.876043\n",
       "price           74.463033\n",
       "early_access    73.319773\n",
       "id              73.321433\n",
       "developer       76.058782\n",
       "dtype: float64"
      ]
     },
     "execution_count": 8,
     "metadata": {},
     "output_type": "execute_result"
    }
   ],
   "source": [
    "# verificamos el porcentaje de nulos por columna para tomar decisiones\n",
    "total_filas = len(games)\n",
    "nulos_por_columna = games.isnull().sum()\n",
    "porcentaje_nulos_por_columna = (nulos_por_columna / total_filas) * 100\n",
    "porcentaje_nulos_por_columna"
   ]
  },
  {
   "cell_type": "markdown",
   "metadata": {},
   "source": [
    "Observaciones: El porcentaje de filas Nulas es del 73%"
   ]
  },
  {
   "cell_type": "markdown",
   "metadata": {},
   "source": [
    "Creamos el codigo para saber que cantidad de Nulos hay en cada columna. "
   ]
  },
  {
   "cell_type": "code",
   "execution_count": 9,
   "metadata": {},
   "outputs": [
    {
     "data": {
      "text/plain": [
       "publisher       96362\n",
       "genres          91593\n",
       "app_name        88312\n",
       "title           90360\n",
       "url             88310\n",
       "release_date    90377\n",
       "tags            88473\n",
       "reviews_url     88312\n",
       "specs           88980\n",
       "price           89687\n",
       "early_access    88310\n",
       "id              88312\n",
       "developer       91609\n",
       "dtype: int64"
      ]
     },
     "execution_count": 9,
     "metadata": {},
     "output_type": "execute_result"
    }
   ],
   "source": [
    "nulos_por_columna = games.isnull().sum() # Obtenemos la cantidad de nulos por columna\n",
    "nulos_por_columna\n"
   ]
  },
  {
   "cell_type": "code",
   "execution_count": 10,
   "metadata": {},
   "outputs": [
    {
     "data": {
      "text/plain": [
       "1168997"
      ]
     },
     "execution_count": 10,
     "metadata": {},
     "output_type": "execute_result"
    }
   ],
   "source": [
    "total_nulos = games.isnull().sum().sum() # Obtenemos la cantidad total de nulos\n",
    "total_nulos"
   ]
  },
  {
   "cell_type": "markdown",
   "metadata": {},
   "source": [
    "Eliminación de Nulos"
   ]
  },
  {
   "cell_type": "code",
   "execution_count": 11,
   "metadata": {},
   "outputs": [
    {
     "data": {
      "text/html": [
       "<div>\n",
       "<style scoped>\n",
       "    .dataframe tbody tr th:only-of-type {\n",
       "        vertical-align: middle;\n",
       "    }\n",
       "\n",
       "    .dataframe tbody tr th {\n",
       "        vertical-align: top;\n",
       "    }\n",
       "\n",
       "    .dataframe thead th {\n",
       "        text-align: right;\n",
       "    }\n",
       "</style>\n",
       "<table border=\"1\" class=\"dataframe\">\n",
       "  <thead>\n",
       "    <tr style=\"text-align: right;\">\n",
       "      <th></th>\n",
       "      <th>publisher</th>\n",
       "      <th>genres</th>\n",
       "      <th>app_name</th>\n",
       "      <th>title</th>\n",
       "      <th>url</th>\n",
       "      <th>release_date</th>\n",
       "      <th>tags</th>\n",
       "      <th>reviews_url</th>\n",
       "      <th>specs</th>\n",
       "      <th>price</th>\n",
       "      <th>early_access</th>\n",
       "      <th>id</th>\n",
       "      <th>developer</th>\n",
       "    </tr>\n",
       "  </thead>\n",
       "  <tbody>\n",
       "    <tr>\n",
       "      <th>0</th>\n",
       "      <td>Kotoshiro</td>\n",
       "      <td>[Action, Casual, Indie, Simulation, Strategy]</td>\n",
       "      <td>Lost Summoner Kitty</td>\n",
       "      <td>Lost Summoner Kitty</td>\n",
       "      <td>http://store.steampowered.com/app/761140/Lost_...</td>\n",
       "      <td>2018-01-04</td>\n",
       "      <td>[Strategy, Action, Indie, Casual, Simulation]</td>\n",
       "      <td>http://steamcommunity.com/app/761140/reviews/?...</td>\n",
       "      <td>[Single-player]</td>\n",
       "      <td>4.99</td>\n",
       "      <td>False</td>\n",
       "      <td>761140</td>\n",
       "      <td>Kotoshiro</td>\n",
       "    </tr>\n",
       "    <tr>\n",
       "      <th>1</th>\n",
       "      <td>Making Fun, Inc.</td>\n",
       "      <td>[Free to Play, Indie, RPG, Strategy]</td>\n",
       "      <td>Ironbound</td>\n",
       "      <td>Ironbound</td>\n",
       "      <td>http://store.steampowered.com/app/643980/Ironb...</td>\n",
       "      <td>2018-01-04</td>\n",
       "      <td>[Free to Play, Strategy, Indie, RPG, Card Game...</td>\n",
       "      <td>http://steamcommunity.com/app/643980/reviews/?...</td>\n",
       "      <td>[Single-player, Multi-player, Online Multi-Pla...</td>\n",
       "      <td>Free To Play</td>\n",
       "      <td>False</td>\n",
       "      <td>643980</td>\n",
       "      <td>Secret Level SRL</td>\n",
       "    </tr>\n",
       "    <tr>\n",
       "      <th>2</th>\n",
       "      <td>Poolians.com</td>\n",
       "      <td>[Casual, Free to Play, Indie, Simulation, Sports]</td>\n",
       "      <td>Real Pool 3D - Poolians</td>\n",
       "      <td>Real Pool 3D - Poolians</td>\n",
       "      <td>http://store.steampowered.com/app/670290/Real_...</td>\n",
       "      <td>2017-07-24</td>\n",
       "      <td>[Free to Play, Simulation, Sports, Casual, Ind...</td>\n",
       "      <td>http://steamcommunity.com/app/670290/reviews/?...</td>\n",
       "      <td>[Single-player, Multi-player, Online Multi-Pla...</td>\n",
       "      <td>Free to Play</td>\n",
       "      <td>False</td>\n",
       "      <td>670290</td>\n",
       "      <td>Poolians.com</td>\n",
       "    </tr>\n",
       "    <tr>\n",
       "      <th>3</th>\n",
       "      <td>彼岸领域</td>\n",
       "      <td>[Action, Adventure, Casual]</td>\n",
       "      <td>弹炸人2222</td>\n",
       "      <td>弹炸人2222</td>\n",
       "      <td>http://store.steampowered.com/app/767400/2222/</td>\n",
       "      <td>2017-12-07</td>\n",
       "      <td>[Action, Adventure, Casual]</td>\n",
       "      <td>http://steamcommunity.com/app/767400/reviews/?...</td>\n",
       "      <td>[Single-player]</td>\n",
       "      <td>0.99</td>\n",
       "      <td>False</td>\n",
       "      <td>767400</td>\n",
       "      <td>彼岸领域</td>\n",
       "    </tr>\n",
       "    <tr>\n",
       "      <th>4</th>\n",
       "      <td>NaN</td>\n",
       "      <td>NaN</td>\n",
       "      <td>Log Challenge</td>\n",
       "      <td>NaN</td>\n",
       "      <td>http://store.steampowered.com/app/773570/Log_C...</td>\n",
       "      <td>NaN</td>\n",
       "      <td>[Action, Indie, Casual, Sports]</td>\n",
       "      <td>http://steamcommunity.com/app/773570/reviews/?...</td>\n",
       "      <td>[Single-player, Full controller support, HTC V...</td>\n",
       "      <td>2.99</td>\n",
       "      <td>False</td>\n",
       "      <td>773570</td>\n",
       "      <td>NaN</td>\n",
       "    </tr>\n",
       "  </tbody>\n",
       "</table>\n",
       "</div>"
      ],
      "text/plain": [
       "          publisher                                             genres  \\\n",
       "0         Kotoshiro      [Action, Casual, Indie, Simulation, Strategy]   \n",
       "1  Making Fun, Inc.               [Free to Play, Indie, RPG, Strategy]   \n",
       "2      Poolians.com  [Casual, Free to Play, Indie, Simulation, Sports]   \n",
       "3              彼岸领域                        [Action, Adventure, Casual]   \n",
       "4               NaN                                                NaN   \n",
       "\n",
       "                  app_name                    title  \\\n",
       "0      Lost Summoner Kitty      Lost Summoner Kitty   \n",
       "1                Ironbound                Ironbound   \n",
       "2  Real Pool 3D - Poolians  Real Pool 3D - Poolians   \n",
       "3                  弹炸人2222                  弹炸人2222   \n",
       "4            Log Challenge                      NaN   \n",
       "\n",
       "                                                 url release_date  \\\n",
       "0  http://store.steampowered.com/app/761140/Lost_...   2018-01-04   \n",
       "1  http://store.steampowered.com/app/643980/Ironb...   2018-01-04   \n",
       "2  http://store.steampowered.com/app/670290/Real_...   2017-07-24   \n",
       "3     http://store.steampowered.com/app/767400/2222/   2017-12-07   \n",
       "4  http://store.steampowered.com/app/773570/Log_C...          NaN   \n",
       "\n",
       "                                                tags  \\\n",
       "0      [Strategy, Action, Indie, Casual, Simulation]   \n",
       "1  [Free to Play, Strategy, Indie, RPG, Card Game...   \n",
       "2  [Free to Play, Simulation, Sports, Casual, Ind...   \n",
       "3                        [Action, Adventure, Casual]   \n",
       "4                    [Action, Indie, Casual, Sports]   \n",
       "\n",
       "                                         reviews_url  \\\n",
       "0  http://steamcommunity.com/app/761140/reviews/?...   \n",
       "1  http://steamcommunity.com/app/643980/reviews/?...   \n",
       "2  http://steamcommunity.com/app/670290/reviews/?...   \n",
       "3  http://steamcommunity.com/app/767400/reviews/?...   \n",
       "4  http://steamcommunity.com/app/773570/reviews/?...   \n",
       "\n",
       "                                               specs         price  \\\n",
       "0                                    [Single-player]          4.99   \n",
       "1  [Single-player, Multi-player, Online Multi-Pla...  Free To Play   \n",
       "2  [Single-player, Multi-player, Online Multi-Pla...  Free to Play   \n",
       "3                                    [Single-player]          0.99   \n",
       "4  [Single-player, Full controller support, HTC V...          2.99   \n",
       "\n",
       "  early_access      id         developer  \n",
       "0        False  761140         Kotoshiro  \n",
       "1        False  643980  Secret Level SRL  \n",
       "2        False  670290      Poolians.com  \n",
       "3        False  767400              彼岸领域  \n",
       "4        False  773570               NaN  "
      ]
     },
     "execution_count": 11,
     "metadata": {},
     "output_type": "execute_result"
    }
   ],
   "source": [
    "steam_games = games.dropna(how=\"all\").reset_index(drop=True) # Eliminamos las filas que tienen \"solo valores nulos\"\n",
    "steam_games.head()"
   ]
  },
  {
   "cell_type": "markdown",
   "metadata": {},
   "source": [
    "Observaciones: Al eliminar las filas que solo tienen valores nulos, pasamos de tener 1.168.997 de datos a 20.967"
   ]
  },
  {
   "cell_type": "code",
   "execution_count": 12,
   "metadata": {},
   "outputs": [
    {
     "data": {
      "text/plain": [
       "20967"
      ]
     },
     "execution_count": 12,
     "metadata": {},
     "output_type": "execute_result"
    }
   ],
   "source": [
    "total_nulos = steam_games.isnull().sum().sum() # Verificamos nuevamente la cantidad total de nulos\n",
    "total_nulos"
   ]
  },
  {
   "cell_type": "code",
   "execution_count": 13,
   "metadata": {},
   "outputs": [
    {
     "data": {
      "text/html": [
       "<div>\n",
       "<style scoped>\n",
       "    .dataframe tbody tr th:only-of-type {\n",
       "        vertical-align: middle;\n",
       "    }\n",
       "\n",
       "    .dataframe tbody tr th {\n",
       "        vertical-align: top;\n",
       "    }\n",
       "\n",
       "    .dataframe thead th {\n",
       "        text-align: right;\n",
       "    }\n",
       "</style>\n",
       "<table border=\"1\" class=\"dataframe\">\n",
       "  <thead>\n",
       "    <tr style=\"text-align: right;\">\n",
       "      <th></th>\n",
       "      <th>publisher</th>\n",
       "      <th>genres</th>\n",
       "      <th>app_name</th>\n",
       "      <th>title</th>\n",
       "      <th>url</th>\n",
       "      <th>release_date</th>\n",
       "      <th>tags</th>\n",
       "      <th>reviews_url</th>\n",
       "      <th>specs</th>\n",
       "      <th>price</th>\n",
       "      <th>early_access</th>\n",
       "      <th>id</th>\n",
       "      <th>developer</th>\n",
       "    </tr>\n",
       "  </thead>\n",
       "  <tbody>\n",
       "    <tr>\n",
       "      <th>14573</th>\n",
       "      <td>Bethesda Softworks</td>\n",
       "      <td>[Action]</td>\n",
       "      <td>Wolfenstein II: The New Colossus</td>\n",
       "      <td>Wolfenstein II: The New Colossus</td>\n",
       "      <td>http://store.steampowered.com/app/612880/Wolfe...</td>\n",
       "      <td>2017-10-26</td>\n",
       "      <td>[Action, FPS, Gore, Violent, Alternate History...</td>\n",
       "      <td>http://steamcommunity.com/app/612880/reviews/?...</td>\n",
       "      <td>[Single-player, Steam Achievements, Full contr...</td>\n",
       "      <td>59.99</td>\n",
       "      <td>False</td>\n",
       "      <td>612880</td>\n",
       "      <td>Machine Games</td>\n",
       "    </tr>\n",
       "    <tr>\n",
       "      <th>30961</th>\n",
       "      <td>Warner Bros. Interactive Entertainment, Feral ...</td>\n",
       "      <td>[Action, Adventure]</td>\n",
       "      <td>Batman: Arkham City - Game of the Year Edition</td>\n",
       "      <td>Batman: Arkham City - Game of the Year Edition</td>\n",
       "      <td>http://store.steampowered.com/app/200260</td>\n",
       "      <td>2012-09-07</td>\n",
       "      <td>[Action, Open World, Batman, Adventure, Stealt...</td>\n",
       "      <td>NaN</td>\n",
       "      <td>[Single-player, Steam Achievements, Steam Trad...</td>\n",
       "      <td>19.99</td>\n",
       "      <td>False</td>\n",
       "      <td>NaN</td>\n",
       "      <td>Rocksteady Studios,Feral Interactive (Mac)</td>\n",
       "    </tr>\n",
       "  </tbody>\n",
       "</table>\n",
       "</div>"
      ],
      "text/plain": [
       "                                               publisher               genres  \\\n",
       "14573                                 Bethesda Softworks             [Action]   \n",
       "30961  Warner Bros. Interactive Entertainment, Feral ...  [Action, Adventure]   \n",
       "\n",
       "                                             app_name  \\\n",
       "14573                Wolfenstein II: The New Colossus   \n",
       "30961  Batman: Arkham City - Game of the Year Edition   \n",
       "\n",
       "                                                title  \\\n",
       "14573                Wolfenstein II: The New Colossus   \n",
       "30961  Batman: Arkham City - Game of the Year Edition   \n",
       "\n",
       "                                                     url release_date  \\\n",
       "14573  http://store.steampowered.com/app/612880/Wolfe...   2017-10-26   \n",
       "30961           http://store.steampowered.com/app/200260   2012-09-07   \n",
       "\n",
       "                                                    tags  \\\n",
       "14573  [Action, FPS, Gore, Violent, Alternate History...   \n",
       "30961  [Action, Open World, Batman, Adventure, Stealt...   \n",
       "\n",
       "                                             reviews_url  \\\n",
       "14573  http://steamcommunity.com/app/612880/reviews/?...   \n",
       "30961                                                NaN   \n",
       "\n",
       "                                                   specs  price early_access  \\\n",
       "14573  [Single-player, Steam Achievements, Full contr...  59.99        False   \n",
       "30961  [Single-player, Steam Achievements, Steam Trad...  19.99        False   \n",
       "\n",
       "           id                                   developer  \n",
       "14573  612880                               Machine Games  \n",
       "30961     NaN  Rocksteady Studios,Feral Interactive (Mac)  "
      ]
     },
     "execution_count": 13,
     "metadata": {},
     "output_type": "execute_result"
    }
   ],
   "source": [
    "duplicados_columnas = steam_games[steam_games.duplicated(subset=['id'])] # Verificamos si hay filas duplicadas en la columna id\n",
    "duplicados_columnas"
   ]
  },
  {
   "cell_type": "code",
   "execution_count": 14,
   "metadata": {},
   "outputs": [
    {
     "data": {
      "text/html": [
       "<div>\n",
       "<style scoped>\n",
       "    .dataframe tbody tr th:only-of-type {\n",
       "        vertical-align: middle;\n",
       "    }\n",
       "\n",
       "    .dataframe tbody tr th {\n",
       "        vertical-align: top;\n",
       "    }\n",
       "\n",
       "    .dataframe thead th {\n",
       "        text-align: right;\n",
       "    }\n",
       "</style>\n",
       "<table border=\"1\" class=\"dataframe\">\n",
       "  <thead>\n",
       "    <tr style=\"text-align: right;\">\n",
       "      <th></th>\n",
       "      <th>publisher</th>\n",
       "      <th>genres</th>\n",
       "      <th>app_name</th>\n",
       "      <th>title</th>\n",
       "      <th>url</th>\n",
       "      <th>release_date</th>\n",
       "      <th>tags</th>\n",
       "      <th>reviews_url</th>\n",
       "      <th>specs</th>\n",
       "      <th>price</th>\n",
       "      <th>early_access</th>\n",
       "      <th>id</th>\n",
       "      <th>developer</th>\n",
       "    </tr>\n",
       "  </thead>\n",
       "  <tbody>\n",
       "    <tr>\n",
       "      <th>12237</th>\n",
       "      <td>Bethesda Softworks</td>\n",
       "      <td>[Action]</td>\n",
       "      <td>Wolfenstein II: The Freedom Chronicles - Seaso...</td>\n",
       "      <td>Wolfenstein II: The Freedom Chronicles - Seaso...</td>\n",
       "      <td>http://store.steampowered.com/app/650410/Wolfe...</td>\n",
       "      <td>2017-11-07</td>\n",
       "      <td>[Gore, Action, Violent]</td>\n",
       "      <td>http://steamcommunity.com/app/650410/reviews/?...</td>\n",
       "      <td>[Single-player, Downloadable Content, Full con...</td>\n",
       "      <td>24.99</td>\n",
       "      <td>False</td>\n",
       "      <td>650410</td>\n",
       "      <td>Machine Games</td>\n",
       "    </tr>\n",
       "    <tr>\n",
       "      <th>13318</th>\n",
       "      <td>Bethesda Softworks</td>\n",
       "      <td>[Action]</td>\n",
       "      <td>Wolfenstein II: The Freedom Chronicles - Episo...</td>\n",
       "      <td>Wolfenstein II: The Freedom Chronicles - Episo...</td>\n",
       "      <td>http://store.steampowered.com/app/624620/Wolfe...</td>\n",
       "      <td>2017-12-13</td>\n",
       "      <td>[Action, Violent]</td>\n",
       "      <td>http://steamcommunity.com/app/624620/reviews/?...</td>\n",
       "      <td>[Single-player, Downloadable Content, Steam Ac...</td>\n",
       "      <td>9.99</td>\n",
       "      <td>False</td>\n",
       "      <td>624620</td>\n",
       "      <td>Machine Games</td>\n",
       "    </tr>\n",
       "    <tr>\n",
       "      <th>13894</th>\n",
       "      <td>Bethesda Softworks</td>\n",
       "      <td>[Action]</td>\n",
       "      <td>Wolfenstein II: The New Colossus</td>\n",
       "      <td>Wolfenstein II: The New Colossus</td>\n",
       "      <td>http://store.steampowered.com/app/612880/</td>\n",
       "      <td>2017-10-26</td>\n",
       "      <td>[Action, FPS, Gore, Violent, Alternate History...</td>\n",
       "      <td>http://steamcommunity.com/app/612880/reviews/?...</td>\n",
       "      <td>[Single-player, Steam Achievements, Full contr...</td>\n",
       "      <td>59.99</td>\n",
       "      <td>False</td>\n",
       "      <td>612880</td>\n",
       "      <td>Machine Games</td>\n",
       "    </tr>\n",
       "    <tr>\n",
       "      <th>14573</th>\n",
       "      <td>Bethesda Softworks</td>\n",
       "      <td>[Action]</td>\n",
       "      <td>Wolfenstein II: The New Colossus</td>\n",
       "      <td>Wolfenstein II: The New Colossus</td>\n",
       "      <td>http://store.steampowered.com/app/612880/Wolfe...</td>\n",
       "      <td>2017-10-26</td>\n",
       "      <td>[Action, FPS, Gore, Violent, Alternate History...</td>\n",
       "      <td>http://steamcommunity.com/app/612880/reviews/?...</td>\n",
       "      <td>[Single-player, Steam Achievements, Full contr...</td>\n",
       "      <td>59.99</td>\n",
       "      <td>False</td>\n",
       "      <td>612880</td>\n",
       "      <td>Machine Games</td>\n",
       "    </tr>\n",
       "    <tr>\n",
       "      <th>28996</th>\n",
       "      <td>Bethesda Softworks</td>\n",
       "      <td>[Action]</td>\n",
       "      <td>Wolfenstein: The New Order</td>\n",
       "      <td>Wolfenstein: The New Order</td>\n",
       "      <td>http://store.steampowered.com/app/201810/Wolfe...</td>\n",
       "      <td>2014-05-19</td>\n",
       "      <td>[FPS, Action, Shooter, Alternate History, Firs...</td>\n",
       "      <td>http://steamcommunity.com/app/201810/reviews/?...</td>\n",
       "      <td>[Single-player, Steam Achievements, Partial Co...</td>\n",
       "      <td>19.99</td>\n",
       "      <td>False</td>\n",
       "      <td>201810</td>\n",
       "      <td>Machine Games</td>\n",
       "    </tr>\n",
       "  </tbody>\n",
       "</table>\n",
       "</div>"
      ],
      "text/plain": [
       "                publisher    genres  \\\n",
       "12237  Bethesda Softworks  [Action]   \n",
       "13318  Bethesda Softworks  [Action]   \n",
       "13894  Bethesda Softworks  [Action]   \n",
       "14573  Bethesda Softworks  [Action]   \n",
       "28996  Bethesda Softworks  [Action]   \n",
       "\n",
       "                                                app_name  \\\n",
       "12237  Wolfenstein II: The Freedom Chronicles - Seaso...   \n",
       "13318  Wolfenstein II: The Freedom Chronicles - Episo...   \n",
       "13894                   Wolfenstein II: The New Colossus   \n",
       "14573                   Wolfenstein II: The New Colossus   \n",
       "28996                         Wolfenstein: The New Order   \n",
       "\n",
       "                                                   title  \\\n",
       "12237  Wolfenstein II: The Freedom Chronicles - Seaso...   \n",
       "13318  Wolfenstein II: The Freedom Chronicles - Episo...   \n",
       "13894                   Wolfenstein II: The New Colossus   \n",
       "14573                   Wolfenstein II: The New Colossus   \n",
       "28996                         Wolfenstein: The New Order   \n",
       "\n",
       "                                                     url release_date  \\\n",
       "12237  http://store.steampowered.com/app/650410/Wolfe...   2017-11-07   \n",
       "13318  http://store.steampowered.com/app/624620/Wolfe...   2017-12-13   \n",
       "13894          http://store.steampowered.com/app/612880/   2017-10-26   \n",
       "14573  http://store.steampowered.com/app/612880/Wolfe...   2017-10-26   \n",
       "28996  http://store.steampowered.com/app/201810/Wolfe...   2014-05-19   \n",
       "\n",
       "                                                    tags  \\\n",
       "12237                            [Gore, Action, Violent]   \n",
       "13318                                  [Action, Violent]   \n",
       "13894  [Action, FPS, Gore, Violent, Alternate History...   \n",
       "14573  [Action, FPS, Gore, Violent, Alternate History...   \n",
       "28996  [FPS, Action, Shooter, Alternate History, Firs...   \n",
       "\n",
       "                                             reviews_url  \\\n",
       "12237  http://steamcommunity.com/app/650410/reviews/?...   \n",
       "13318  http://steamcommunity.com/app/624620/reviews/?...   \n",
       "13894  http://steamcommunity.com/app/612880/reviews/?...   \n",
       "14573  http://steamcommunity.com/app/612880/reviews/?...   \n",
       "28996  http://steamcommunity.com/app/201810/reviews/?...   \n",
       "\n",
       "                                                   specs  price early_access  \\\n",
       "12237  [Single-player, Downloadable Content, Full con...  24.99        False   \n",
       "13318  [Single-player, Downloadable Content, Steam Ac...   9.99        False   \n",
       "13894  [Single-player, Steam Achievements, Full contr...  59.99        False   \n",
       "14573  [Single-player, Steam Achievements, Full contr...  59.99        False   \n",
       "28996  [Single-player, Steam Achievements, Partial Co...  19.99        False   \n",
       "\n",
       "           id      developer  \n",
       "12237  650410  Machine Games  \n",
       "13318  624620  Machine Games  \n",
       "13894  612880  Machine Games  \n",
       "14573  612880  Machine Games  \n",
       "28996  201810  Machine Games  "
      ]
     },
     "execution_count": 14,
     "metadata": {},
     "output_type": "execute_result"
    }
   ],
   "source": [
    "steam_games[steam_games[\"developer\"] == \"Machine Games\"] "
   ]
  },
  {
   "cell_type": "code",
   "execution_count": 15,
   "metadata": {},
   "outputs": [],
   "source": [
    "steam_games = steam_games.drop([14573, 30961]) # Eliminamos columnas con id duplicadas"
   ]
  },
  {
   "cell_type": "code",
   "execution_count": 16,
   "metadata": {},
   "outputs": [
    {
     "data": {
      "text/html": [
       "<div>\n",
       "<style scoped>\n",
       "    .dataframe tbody tr th:only-of-type {\n",
       "        vertical-align: middle;\n",
       "    }\n",
       "\n",
       "    .dataframe tbody tr th {\n",
       "        vertical-align: top;\n",
       "    }\n",
       "\n",
       "    .dataframe thead th {\n",
       "        text-align: right;\n",
       "    }\n",
       "</style>\n",
       "<table border=\"1\" class=\"dataframe\">\n",
       "  <thead>\n",
       "    <tr style=\"text-align: right;\">\n",
       "      <th></th>\n",
       "      <th>publisher</th>\n",
       "      <th>genres</th>\n",
       "      <th>app_name</th>\n",
       "      <th>title</th>\n",
       "      <th>url</th>\n",
       "      <th>release_date</th>\n",
       "      <th>tags</th>\n",
       "      <th>reviews_url</th>\n",
       "      <th>specs</th>\n",
       "      <th>price</th>\n",
       "      <th>early_access</th>\n",
       "      <th>id</th>\n",
       "      <th>developer</th>\n",
       "    </tr>\n",
       "  </thead>\n",
       "  <tbody>\n",
       "  </tbody>\n",
       "</table>\n",
       "</div>"
      ],
      "text/plain": [
       "Empty DataFrame\n",
       "Columns: [publisher, genres, app_name, title, url, release_date, tags, reviews_url, specs, price, early_access, id, developer]\n",
       "Index: []"
      ]
     },
     "execution_count": 16,
     "metadata": {},
     "output_type": "execute_result"
    }
   ],
   "source": [
    "duplicados_columnas = steam_games[steam_games.duplicated(subset=['id'])]\n",
    "duplicados_columnas"
   ]
  },
  {
   "cell_type": "code",
   "execution_count": 17,
   "metadata": {},
   "outputs": [
    {
     "data": {
      "text/plain": [
       "(32133, 13)"
      ]
     },
     "execution_count": 17,
     "metadata": {},
     "output_type": "execute_result"
    }
   ],
   "source": [
    "steam_games.shape"
   ]
  },
  {
   "cell_type": "code",
   "execution_count": 18,
   "metadata": {},
   "outputs": [
    {
     "data": {
      "text/plain": [
       "publisher       25.058351\n",
       "genres          10.216911\n",
       "app_name         0.006224\n",
       "title            6.379734\n",
       "url              0.000000\n",
       "release_date     6.432639\n",
       "tags             0.507267\n",
       "reviews_url      0.003112\n",
       "specs            2.085084\n",
       "price            4.285314\n",
       "early_access     0.000000\n",
       "id               0.003112\n",
       "developer       10.266704\n",
       "dtype: float64"
      ]
     },
     "execution_count": 18,
     "metadata": {},
     "output_type": "execute_result"
    }
   ],
   "source": [
    "# verificamos el porcentaje de nulos por columna para tomar una decision\n",
    "total_filas = len(steam_games)\n",
    "nulos_por_columna = steam_games.isnull().sum()\n",
    "porcentaje_nulos_por_columna = (nulos_por_columna / total_filas) * 100\n",
    "porcentaje_nulos_por_columna"
   ]
  },
  {
   "cell_type": "code",
   "execution_count": 19,
   "metadata": {},
   "outputs": [
    {
     "data": {
      "text/plain": [
       "publisher       object\n",
       "genres          object\n",
       "app_name        object\n",
       "title           object\n",
       "url             object\n",
       "release_date    object\n",
       "tags            object\n",
       "reviews_url     object\n",
       "specs           object\n",
       "price           object\n",
       "early_access    object\n",
       "id              object\n",
       "developer       object\n",
       "dtype: object"
      ]
     },
     "execution_count": 19,
     "metadata": {},
     "output_type": "execute_result"
    }
   ],
   "source": [
    "tipos_de_datos = steam_games.dtypes # Obtenemos los tipos de datos de cada columna\n",
    "tipos_de_datos"
   ]
  },
  {
   "cell_type": "code",
   "execution_count": 20,
   "metadata": {},
   "outputs": [
    {
     "data": {
      "text/html": [
       "<div>\n",
       "<style scoped>\n",
       "    .dataframe tbody tr th:only-of-type {\n",
       "        vertical-align: middle;\n",
       "    }\n",
       "\n",
       "    .dataframe tbody tr th {\n",
       "        vertical-align: top;\n",
       "    }\n",
       "\n",
       "    .dataframe thead th {\n",
       "        text-align: right;\n",
       "    }\n",
       "</style>\n",
       "<table border=\"1\" class=\"dataframe\">\n",
       "  <thead>\n",
       "    <tr style=\"text-align: right;\">\n",
       "      <th></th>\n",
       "      <th>columna</th>\n",
       "      <th>tipos_de_datos</th>\n",
       "    </tr>\n",
       "  </thead>\n",
       "  <tbody>\n",
       "    <tr>\n",
       "      <th>0</th>\n",
       "      <td>publisher</td>\n",
       "      <td>[&lt;class 'str'&gt;, &lt;class 'float'&gt;]</td>\n",
       "    </tr>\n",
       "    <tr>\n",
       "      <th>1</th>\n",
       "      <td>genres</td>\n",
       "      <td>[&lt;class 'list'&gt;, &lt;class 'float'&gt;]</td>\n",
       "    </tr>\n",
       "    <tr>\n",
       "      <th>2</th>\n",
       "      <td>app_name</td>\n",
       "      <td>[&lt;class 'str'&gt;, &lt;class 'float'&gt;]</td>\n",
       "    </tr>\n",
       "    <tr>\n",
       "      <th>3</th>\n",
       "      <td>title</td>\n",
       "      <td>[&lt;class 'str'&gt;, &lt;class 'float'&gt;]</td>\n",
       "    </tr>\n",
       "    <tr>\n",
       "      <th>4</th>\n",
       "      <td>url</td>\n",
       "      <td>[&lt;class 'str'&gt;]</td>\n",
       "    </tr>\n",
       "    <tr>\n",
       "      <th>5</th>\n",
       "      <td>release_date</td>\n",
       "      <td>[&lt;class 'str'&gt;, &lt;class 'float'&gt;]</td>\n",
       "    </tr>\n",
       "    <tr>\n",
       "      <th>6</th>\n",
       "      <td>tags</td>\n",
       "      <td>[&lt;class 'list'&gt;, &lt;class 'float'&gt;]</td>\n",
       "    </tr>\n",
       "    <tr>\n",
       "      <th>7</th>\n",
       "      <td>reviews_url</td>\n",
       "      <td>[&lt;class 'str'&gt;, &lt;class 'float'&gt;]</td>\n",
       "    </tr>\n",
       "    <tr>\n",
       "      <th>8</th>\n",
       "      <td>specs</td>\n",
       "      <td>[&lt;class 'list'&gt;, &lt;class 'float'&gt;]</td>\n",
       "    </tr>\n",
       "    <tr>\n",
       "      <th>9</th>\n",
       "      <td>price</td>\n",
       "      <td>[&lt;class 'float'&gt;, &lt;class 'str'&gt;]</td>\n",
       "    </tr>\n",
       "    <tr>\n",
       "      <th>10</th>\n",
       "      <td>early_access</td>\n",
       "      <td>[&lt;class 'bool'&gt;]</td>\n",
       "    </tr>\n",
       "    <tr>\n",
       "      <th>11</th>\n",
       "      <td>id</td>\n",
       "      <td>[&lt;class 'str'&gt;, &lt;class 'float'&gt;]</td>\n",
       "    </tr>\n",
       "    <tr>\n",
       "      <th>12</th>\n",
       "      <td>developer</td>\n",
       "      <td>[&lt;class 'str'&gt;, &lt;class 'float'&gt;]</td>\n",
       "    </tr>\n",
       "  </tbody>\n",
       "</table>\n",
       "</div>"
      ],
      "text/plain": [
       "         columna                     tipos_de_datos\n",
       "0      publisher   [<class 'str'>, <class 'float'>]\n",
       "1         genres  [<class 'list'>, <class 'float'>]\n",
       "2       app_name   [<class 'str'>, <class 'float'>]\n",
       "3          title   [<class 'str'>, <class 'float'>]\n",
       "4            url                    [<class 'str'>]\n",
       "5   release_date   [<class 'str'>, <class 'float'>]\n",
       "6           tags  [<class 'list'>, <class 'float'>]\n",
       "7    reviews_url   [<class 'str'>, <class 'float'>]\n",
       "8          specs  [<class 'list'>, <class 'float'>]\n",
       "9          price   [<class 'float'>, <class 'str'>]\n",
       "10  early_access                   [<class 'bool'>]\n",
       "11            id   [<class 'str'>, <class 'float'>]\n",
       "12     developer   [<class 'str'>, <class 'float'>]"
      ]
     },
     "execution_count": 20,
     "metadata": {},
     "output_type": "execute_result"
    }
   ],
   "source": [
    "tipo_data = {\"columna\":[],\"tipos_de_datos\":[]} # creamos un diccionario vacio\n",
    "\n",
    "for columna in steam_games.columns: # iteramos por las columnas del dataframe \n",
    "    tipo_data[\"columna\"].append(columna) # agregamos el nombre de la columna\n",
    "    tipo_data[\"tipos_de_datos\"].append(steam_games[columna].apply(type).unique()) # agregamos el tipo de dato de la columna\n",
    "\n",
    "analisis= pd.DataFrame(tipo_data) # convertimos el diccionario en un dataframe\n",
    "analisis"
   ]
  },
  {
   "cell_type": "code",
   "execution_count": 21,
   "metadata": {},
   "outputs": [
    {
     "data": {
      "text/plain": [
       "0        2018-01-04\n",
       "1        2018-01-04\n",
       "2        2017-07-24\n",
       "3        2017-12-07\n",
       "4               NaN\n",
       "            ...    \n",
       "32130    2018-01-04\n",
       "32131    2018-01-04\n",
       "32132    2018-01-04\n",
       "32133    2017-09-02\n",
       "32134           NaN\n",
       "Name: release_date, Length: 32133, dtype: object"
      ]
     },
     "execution_count": 21,
     "metadata": {},
     "output_type": "execute_result"
    }
   ],
   "source": [
    "#composición de la columna\n",
    "steam_games[\"release_date\"]"
   ]
  },
  {
   "cell_type": "code",
   "execution_count": 22,
   "metadata": {},
   "outputs": [
    {
     "data": {
      "text/plain": [
       "2012-10-16    100\n",
       "2017-08-31     92\n",
       "2017-09-26     89\n",
       "2017-06-21     82\n",
       "2017-07-25     78\n",
       "             ... \n",
       "1988-04-16      1\n",
       "2013-08-24      1\n",
       "2011-05-07      1\n",
       "2010-08-21      1\n",
       "2018-10-01      1\n",
       "Name: release_date, Length: 3582, dtype: int64"
      ]
     },
     "execution_count": 22,
     "metadata": {},
     "output_type": "execute_result"
    }
   ],
   "source": [
    "steam_games[\"release_date\"].value_counts()"
   ]
  },
  {
   "cell_type": "code",
   "execution_count": 23,
   "metadata": {},
   "outputs": [
    {
     "data": {
      "text/plain": [
       "2067"
      ]
     },
     "execution_count": 23,
     "metadata": {},
     "output_type": "execute_result"
    }
   ],
   "source": [
    "steam_games[\"release_date\"].isnull().sum()"
   ]
  },
  {
   "cell_type": "code",
   "execution_count": 24,
   "metadata": {},
   "outputs": [],
   "source": [
    "# Convertimos la columna en datetime especificando el formato\n",
    "steam_games['release_date'] = pd.to_datetime(steam_games['release_date'], format='%d/%m/%Y', errors='coerce')\n",
    "\n",
    "# Calculamos la fecha media\n",
    "mean_date = steam_games['release_date'].mean()\n",
    "\n",
    "# Rellenamos los valores nulos con la fecha media\n",
    "steam_games['release_date'].fillna(mean_date, inplace=True)"
   ]
  },
  {
   "cell_type": "code",
   "execution_count": 25,
   "metadata": {},
   "outputs": [
    {
     "data": {
      "text/plain": [
       "32133"
      ]
     },
     "execution_count": 25,
     "metadata": {},
     "output_type": "execute_result"
    }
   ],
   "source": [
    "# Verificamos que no hayan nulos\n",
    "steam_games[\"release_date\"].isnull().sum()"
   ]
  },
  {
   "cell_type": "markdown",
   "metadata": {},
   "source": [
    "Creación de nueva columna \"release_year\""
   ]
  },
  {
   "cell_type": "code",
   "execution_count": 26,
   "metadata": {},
   "outputs": [
    {
     "data": {
      "text/html": [
       "<div>\n",
       "<style scoped>\n",
       "    .dataframe tbody tr th:only-of-type {\n",
       "        vertical-align: middle;\n",
       "    }\n",
       "\n",
       "    .dataframe tbody tr th {\n",
       "        vertical-align: top;\n",
       "    }\n",
       "\n",
       "    .dataframe thead th {\n",
       "        text-align: right;\n",
       "    }\n",
       "</style>\n",
       "<table border=\"1\" class=\"dataframe\">\n",
       "  <thead>\n",
       "    <tr style=\"text-align: right;\">\n",
       "      <th></th>\n",
       "      <th>publisher</th>\n",
       "      <th>genres</th>\n",
       "      <th>app_name</th>\n",
       "      <th>title</th>\n",
       "      <th>url</th>\n",
       "      <th>release_date</th>\n",
       "      <th>tags</th>\n",
       "      <th>reviews_url</th>\n",
       "      <th>specs</th>\n",
       "      <th>price</th>\n",
       "      <th>early_access</th>\n",
       "      <th>id</th>\n",
       "      <th>developer</th>\n",
       "      <th>release_year</th>\n",
       "    </tr>\n",
       "  </thead>\n",
       "  <tbody>\n",
       "    <tr>\n",
       "      <th>0</th>\n",
       "      <td>Kotoshiro</td>\n",
       "      <td>[Action, Casual, Indie, Simulation, Strategy]</td>\n",
       "      <td>Lost Summoner Kitty</td>\n",
       "      <td>Lost Summoner Kitty</td>\n",
       "      <td>http://store.steampowered.com/app/761140/Lost_...</td>\n",
       "      <td>NaT</td>\n",
       "      <td>[Strategy, Action, Indie, Casual, Simulation]</td>\n",
       "      <td>http://steamcommunity.com/app/761140/reviews/?...</td>\n",
       "      <td>[Single-player]</td>\n",
       "      <td>4.99</td>\n",
       "      <td>False</td>\n",
       "      <td>761140</td>\n",
       "      <td>Kotoshiro</td>\n",
       "      <td>NaN</td>\n",
       "    </tr>\n",
       "    <tr>\n",
       "      <th>1</th>\n",
       "      <td>Making Fun, Inc.</td>\n",
       "      <td>[Free to Play, Indie, RPG, Strategy]</td>\n",
       "      <td>Ironbound</td>\n",
       "      <td>Ironbound</td>\n",
       "      <td>http://store.steampowered.com/app/643980/Ironb...</td>\n",
       "      <td>NaT</td>\n",
       "      <td>[Free to Play, Strategy, Indie, RPG, Card Game...</td>\n",
       "      <td>http://steamcommunity.com/app/643980/reviews/?...</td>\n",
       "      <td>[Single-player, Multi-player, Online Multi-Pla...</td>\n",
       "      <td>Free To Play</td>\n",
       "      <td>False</td>\n",
       "      <td>643980</td>\n",
       "      <td>Secret Level SRL</td>\n",
       "      <td>NaN</td>\n",
       "    </tr>\n",
       "  </tbody>\n",
       "</table>\n",
       "</div>"
      ],
      "text/plain": [
       "          publisher                                         genres  \\\n",
       "0         Kotoshiro  [Action, Casual, Indie, Simulation, Strategy]   \n",
       "1  Making Fun, Inc.           [Free to Play, Indie, RPG, Strategy]   \n",
       "\n",
       "              app_name                title  \\\n",
       "0  Lost Summoner Kitty  Lost Summoner Kitty   \n",
       "1            Ironbound            Ironbound   \n",
       "\n",
       "                                                 url release_date  \\\n",
       "0  http://store.steampowered.com/app/761140/Lost_...          NaT   \n",
       "1  http://store.steampowered.com/app/643980/Ironb...          NaT   \n",
       "\n",
       "                                                tags  \\\n",
       "0      [Strategy, Action, Indie, Casual, Simulation]   \n",
       "1  [Free to Play, Strategy, Indie, RPG, Card Game...   \n",
       "\n",
       "                                         reviews_url  \\\n",
       "0  http://steamcommunity.com/app/761140/reviews/?...   \n",
       "1  http://steamcommunity.com/app/643980/reviews/?...   \n",
       "\n",
       "                                               specs         price  \\\n",
       "0                                    [Single-player]          4.99   \n",
       "1  [Single-player, Multi-player, Online Multi-Pla...  Free To Play   \n",
       "\n",
       "  early_access      id         developer  release_year  \n",
       "0        False  761140         Kotoshiro           NaN  \n",
       "1        False  643980  Secret Level SRL           NaN  "
      ]
     },
     "execution_count": 26,
     "metadata": {},
     "output_type": "execute_result"
    }
   ],
   "source": [
    " #Extraemos el año de la columna \"release_date\" y creamos una nueva columna llamada \"release_year\"\n",
    "steam_games['release_year'] = steam_games['release_date'].dt.year \n",
    "steam_games.head(2)"
   ]
  },
  {
   "cell_type": "code",
   "execution_count": 27,
   "metadata": {},
   "outputs": [
    {
     "data": {
      "text/plain": [
       "0                4.99\n",
       "1        Free To Play\n",
       "2        Free to Play\n",
       "3                0.99\n",
       "4                2.99\n",
       "             ...     \n",
       "32130            1.99\n",
       "32131            4.99\n",
       "32132            1.99\n",
       "32133            4.99\n",
       "32134            4.99\n",
       "Name: price, Length: 32133, dtype: object"
      ]
     },
     "execution_count": 27,
     "metadata": {},
     "output_type": "execute_result"
    }
   ],
   "source": [
    "steam_games[\"price\"] # observamos la composición de la columna"
   ]
  },
  {
   "cell_type": "code",
   "execution_count": 28,
   "metadata": {},
   "outputs": [
    {
     "data": {
      "text/plain": [
       "4.99           4278\n",
       "9.99           3902\n",
       "2.99           3429\n",
       "0.99           2607\n",
       "1.99           2541\n",
       "               ... \n",
       "74.76             1\n",
       "32.99             1\n",
       "14.95             1\n",
       "26.99             1\n",
       "Free to Use       1\n",
       "Name: price, Length: 162, dtype: int64"
      ]
     },
     "execution_count": 28,
     "metadata": {},
     "output_type": "execute_result"
    }
   ],
   "source": [
    "steam_games[\"price\"].value_counts() # observamos la cantidad de valores por precio"
   ]
  },
  {
   "cell_type": "markdown",
   "metadata": {},
   "source": [
    "Definición de función : "
   ]
  },
  {
   "cell_type": "code",
   "execution_count": 29,
   "metadata": {},
   "outputs": [],
   "source": [
    "# Definimos una función para poder reemplazar los datos string de la columna \"price\" por flotantes 0.0\n",
    "\n",
    "def str_a_float(valor):\n",
    "\n",
    "    if pd.isna(valor): # si el valor es nulo retorno 0.0\n",
    "        return 0.0\n",
    "    try:\n",
    "        flotante = float(valor) # si el valor es un flotante retorno el mismo valor\n",
    "        return flotante\n",
    "    except (ValueError, TypeError): # si el valor no es un flotante retorno 0.0\n",
    "        return 0.0\n"
   ]
  },
  {
   "cell_type": "code",
   "execution_count": 30,
   "metadata": {},
   "outputs": [],
   "source": [
    "steam_games[\"price\"] = steam_games[\"price\"].apply(str_a_float) # aplicamos la función a la columna \"price\""
   ]
  },
  {
   "cell_type": "code",
   "execution_count": 31,
   "metadata": {},
   "outputs": [
    {
     "data": {
      "text/plain": [
       "0        4.99\n",
       "1        0.00\n",
       "2        0.00\n",
       "3        0.99\n",
       "4        2.99\n",
       "         ... \n",
       "32130    1.99\n",
       "32131    4.99\n",
       "32132    1.99\n",
       "32133    4.99\n",
       "32134    4.99\n",
       "Name: price, Length: 32133, dtype: float64"
      ]
     },
     "execution_count": 31,
     "metadata": {},
     "output_type": "execute_result"
    }
   ],
   "source": [
    "steam_games[\"price\"] # observamos la nueva composición de la columna"
   ]
  },
  {
   "cell_type": "markdown",
   "metadata": {},
   "source": [
    "Columna Genero"
   ]
  },
  {
   "cell_type": "code",
   "execution_count": 32,
   "metadata": {},
   "outputs": [
    {
     "data": {
      "text/plain": [
       "['Action', 'Adventure', 'Casual']"
      ]
     },
     "execution_count": 32,
     "metadata": {},
     "output_type": "execute_result"
    }
   ],
   "source": [
    "steam_games[\"genres\"][3] # observamos la composición de un campo al azar y vemos que es una lista"
   ]
  },
  {
   "cell_type": "code",
   "execution_count": 33,
   "metadata": {},
   "outputs": [
    {
     "data": {
      "text/plain": [
       "3283"
      ]
     },
     "execution_count": 33,
     "metadata": {},
     "output_type": "execute_result"
    }
   ],
   "source": [
    "steam_games[\"genres\"].isnull().sum() # verificamos la cantidad de nulos"
   ]
  },
  {
   "cell_type": "code",
   "execution_count": 34,
   "metadata": {},
   "outputs": [
    {
     "data": {
      "text/plain": [
       "[Action]                                                          1879\n",
       "[Action, Indie]                                                   1650\n",
       "[Simulation]                                                      1396\n",
       "[Casual, Simulation]                                              1359\n",
       "[Action, Adventure, Indie]                                        1082\n",
       "                                                                  ... \n",
       "[Action, Adventure, Racing, Simulation, Strategy]                    1\n",
       "[Action, Adventure, Casual, Indie, Racing, Sports, Strategy]         1\n",
       "[Action, Adventure, Casual, Indie, Racing, Simulation, Sports]       1\n",
       "[Action, Massively Multiplayer, RPG, Strategy]                       1\n",
       "[Adventure, Casual, RPG, Simulation, Early Access]                   1\n",
       "Name: genres, Length: 883, dtype: int64"
      ]
     },
     "execution_count": 34,
     "metadata": {},
     "output_type": "execute_result"
    }
   ],
   "source": [
    "steam_games[\"genres\"].value_counts() # verificamos la cantidad de valores por genero"
   ]
  },
  {
   "cell_type": "markdown",
   "metadata": {},
   "source": [
    "Realizamos una función para limpiar la columa \"geners\" "
   ]
  },
  {
   "cell_type": "code",
   "execution_count": 35,
   "metadata": {},
   "outputs": [],
   "source": [
    "def clean_genres(genres):\n",
    "    if isinstance(genres, list):\n",
    "        return genres[0]\n",
    "    elif isinstance(genres, str):\n",
    "        return genres\n",
    "    else:\n",
    "        return 'Pending classification'"
   ]
  },
  {
   "cell_type": "code",
   "execution_count": 36,
   "metadata": {},
   "outputs": [],
   "source": [
    "# Aplicamos la función a la columna 'genres' y creamos una nueva columna 'genres_clean'\n",
    "steam_games['genres_clean'] = steam_games['genres'].apply(clean_genres)"
   ]
  },
  {
   "cell_type": "code",
   "execution_count": 37,
   "metadata": {},
   "outputs": [
    {
     "data": {
      "text/plain": [
       "Action                       11316\n",
       "Casual                        4340\n",
       "Adventure                     4328\n",
       "Indie                         3299\n",
       "Pending classification        3283\n",
       "Simulation                    1852\n",
       "Strategy                      1143\n",
       "RPG                            685\n",
       "Free to Play                   523\n",
       "Racing                         454\n",
       "Design &amp; Illustration      327\n",
       "Animation &amp; Modeling       179\n",
       "Utilities                       93\n",
       "Audio Production                84\n",
       "Sports                          63\n",
       "Massively Multiplayer           49\n",
       "Education                       46\n",
       "Video Production                21\n",
       "Software Training               21\n",
       "Web Publishing                   8\n",
       "Photo Editing                    8\n",
       "Accounting                       7\n",
       "Early Access                     4\n",
       "Name: genres_clean, dtype: int64"
      ]
     },
     "execution_count": 37,
     "metadata": {},
     "output_type": "execute_result"
    }
   ],
   "source": [
    "steam_games[\"genres_clean\"].value_counts() # verificamos la cantidad de valores por genero"
   ]
  },
  {
   "cell_type": "markdown",
   "metadata": {},
   "source": [
    "Observamos que Pending classification  se encuentra en quinto lugar "
   ]
  },
  {
   "cell_type": "code",
   "execution_count": 38,
   "metadata": {},
   "outputs": [],
   "source": [
    "class GenreClassifier:\n",
    "    def replace_pending_with_action(self, row):\n",
    "        if row['genres_clean'] == 'Pending classification':\n",
    "            if isinstance(row['tags'], list):\n",
    "                if 'Action' in row['tags']:\n",
    "                    return 'Action'\n",
    "        return row['genres_clean']\n",
    "\n",
    "    def replace_pending_with_indie(self, row):\n",
    "        if row['genres_clean'] == 'Pending classification':\n",
    "            if isinstance(row['tags'], list):\n",
    "                if 'Indie' in row['tags']:\n",
    "                    return 'Indie'\n",
    "        return row['genres_clean']\n",
    "\n",
    "    def replace_pending_with_casual(self, row):\n",
    "        if row['genres_clean'] == 'Pending classification':\n",
    "            if isinstance(row['tags'], list):\n",
    "                if 'Casual' in row['tags']:\n",
    "                    return 'Casual'\n",
    "        return row['genres_clean']\n",
    "\n",
    "    def replace_pending_with_adventure(self, row):\n",
    "        if row['genres_clean'] == 'Pending classification':\n",
    "            if isinstance(row['tags'], list):\n",
    "                if 'Adventure' in row['tags']:\n",
    "                    return 'Adventure'\n",
    "        return row['genres_clean']\n",
    "\n",
    "    def replace_pending_with_strategy(self, row):\n",
    "        if row['genres_clean'] == 'Pending classification':\n",
    "            if isinstance(row['tags'], list):\n",
    "                if 'Strategy' in row['tags']:\n",
    "                    return 'Strategy'\n",
    "        return row['genres_clean']\n",
    "\n",
    "    def replace_pending_with_rpg(self, row):\n",
    "        if row['genres_clean'] == 'Pending classification':\n",
    "            if isinstance(row['tags'], list):\n",
    "                if 'RPG' in row['tags']:\n",
    "                    return 'RPG'\n",
    "        return row['genres_clean']\n",
    "\n",
    "    def replace_pending_with_simulation(self, row):\n",
    "        if row['genres_clean'] == 'Pending classification':\n",
    "            if isinstance(row['tags'], list):\n",
    "                if 'Simulation' in row['tags']:\n",
    "                    return 'Simulation'\n",
    "        return row['genres_clean']\n",
    "\n",
    "    def replace_pending_with_racing(self, row):\n",
    "        if row['genres_clean'] == 'Pending classification':\n",
    "            if isinstance(row['tags'], list):\n",
    "                if 'Racing' in row['tags']:\n",
    "                    return 'Racing'\n",
    "        return row['genres_clean']\n",
    "\n",
    "    def replace_pending_with_free_to_play(self, row):\n",
    "        if row['genres_clean'] == 'Pending classification':\n",
    "            if isinstance(row['tags'], list):\n",
    "                if 'Free to Play' in row['tags']:\n",
    "                    return 'Free to Play'\n",
    "        return row['genres_clean']"
   ]
  },
  {
   "cell_type": "code",
   "execution_count": 39,
   "metadata": {},
   "outputs": [],
   "source": [
    "# Creamos una instancia de la clase\n",
    "genre_classifier = GenreClassifier()"
   ]
  },
  {
   "cell_type": "code",
   "execution_count": 40,
   "metadata": {},
   "outputs": [],
   "source": [
    "#Aplicamos las funciones a la columna 'genres_clean'\n",
    "steam_games['genres_clean'] = steam_games.apply(genre_classifier.replace_pending_with_action, axis=1)"
   ]
  },
  {
   "cell_type": "code",
   "execution_count": 41,
   "metadata": {},
   "outputs": [],
   "source": [
    "steam_games['genres_clean'] = steam_games.apply(genre_classifier.replace_pending_with_casual, axis=1)"
   ]
  },
  {
   "cell_type": "code",
   "execution_count": 42,
   "metadata": {},
   "outputs": [],
   "source": [
    "steam_games['genres_clean'] = steam_games.apply(genre_classifier.replace_pending_with_adventure, axis=1)"
   ]
  },
  {
   "cell_type": "code",
   "execution_count": 43,
   "metadata": {},
   "outputs": [],
   "source": [
    "steam_games['genres_clean'] = steam_games.apply(genre_classifier.replace_pending_with_strategy, axis=1)"
   ]
  },
  {
   "cell_type": "code",
   "execution_count": 44,
   "metadata": {},
   "outputs": [],
   "source": [
    "steam_games['genres_clean'] = steam_games.apply(genre_classifier.replace_pending_with_strategy, axis=1)"
   ]
  },
  {
   "cell_type": "code",
   "execution_count": 45,
   "metadata": {},
   "outputs": [],
   "source": [
    "steam_games['genres_clean'] = steam_games.apply(genre_classifier.replace_pending_with_rpg, axis=1)"
   ]
  },
  {
   "cell_type": "code",
   "execution_count": 46,
   "metadata": {},
   "outputs": [],
   "source": [
    "steam_games['genres_clean'] = steam_games.apply(genre_classifier.replace_pending_with_simulation, axis=1)"
   ]
  },
  {
   "cell_type": "code",
   "execution_count": 47,
   "metadata": {},
   "outputs": [],
   "source": [
    "steam_games['genres_clean'] = steam_games.apply(genre_classifier.replace_pending_with_free_to_play, axis=1)"
   ]
  },
  {
   "cell_type": "code",
   "execution_count": 48,
   "metadata": {},
   "outputs": [
    {
     "data": {
      "text/plain": [
       "array(['Action', 'Free to Play', 'Casual', 'Adventure',\n",
       "       'Pending classification', 'Racing', 'Strategy', 'Indie', 'RPG',\n",
       "       'Simulation', 'Sports', 'Massively Multiplayer',\n",
       "       'Animation &amp; Modeling', 'Utilities', 'Education',\n",
       "       'Design &amp; Illustration', 'Audio Production',\n",
       "       'Video Production', 'Software Training', 'Accounting',\n",
       "       'Web Publishing', 'Photo Editing', 'Early Access'], dtype=object)"
      ]
     },
     "execution_count": 48,
     "metadata": {},
     "output_type": "execute_result"
    }
   ],
   "source": [
    "steam_games[\"genres_clean\"].unique()"
   ]
  },
  {
   "cell_type": "code",
   "execution_count": 49,
   "metadata": {},
   "outputs": [
    {
     "data": {
      "text/plain": [
       "Action                       12428\n",
       "Casual                        4850\n",
       "Adventure                     4486\n",
       "Indie                         3299\n",
       "Simulation                    1984\n",
       "Pending classification        1303\n",
       "Strategy                      1174\n",
       "RPG                            696\n",
       "Free to Play                   549\n",
       "Racing                         454\n",
       "Design &amp; Illustration      327\n",
       "Animation &amp; Modeling       179\n",
       "Utilities                       93\n",
       "Audio Production                84\n",
       "Sports                          63\n",
       "Massively Multiplayer           49\n",
       "Education                       46\n",
       "Video Production                21\n",
       "Software Training               21\n",
       "Web Publishing                   8\n",
       "Photo Editing                    8\n",
       "Accounting                       7\n",
       "Early Access                     4\n",
       "Name: genres_clean, dtype: int64"
      ]
     },
     "execution_count": 49,
     "metadata": {},
     "output_type": "execute_result"
    }
   ],
   "source": [
    "steam_games[\"genres_clean\"].value_counts()"
   ]
  },
  {
   "cell_type": "code",
   "execution_count": 50,
   "metadata": {},
   "outputs": [
    {
     "data": {
      "text/plain": [
       "3283"
      ]
     },
     "execution_count": 50,
     "metadata": {},
     "output_type": "execute_result"
    }
   ],
   "source": [
    "steam_games[\"genres\"].isnull().sum() # verificamos la cantidad de nulos de la columna \"genres\""
   ]
  },
  {
   "cell_type": "code",
   "execution_count": 51,
   "metadata": {},
   "outputs": [
    {
     "data": {
      "text/plain": [
       "0"
      ]
     },
     "execution_count": 51,
     "metadata": {},
     "output_type": "execute_result"
    }
   ],
   "source": [
    "steam_games[\"genres_clean\"].isnull().sum() # verificamos la cantidad de nulos de la columna \"genres_clean\""
   ]
  },
  {
   "cell_type": "markdown",
   "metadata": {},
   "source": [
    "Comparando los valores Nulos de la columna \"geners\" y \"geners_clean\" , opte por borrar la columna geners, dado que\n",
    "tiene 3283 datos nulos y la columna geners_clean ningún dato Nulo. "
   ]
  },
  {
   "cell_type": "code",
   "execution_count": 52,
   "metadata": {},
   "outputs": [],
   "source": [
    "# Eliminamos la columna 'genres'\n",
    "steam_games = steam_games.drop('genres', axis=1)"
   ]
  },
  {
   "cell_type": "markdown",
   "metadata": {},
   "source": [
    "Una vez que elimino la columna \"geners\" y me mantego con la columna 'genres_clean'\n",
    "La renombro y mantengo 'genres' para que me quede el original del nombre"
   ]
  },
  {
   "cell_type": "code",
   "execution_count": 53,
   "metadata": {},
   "outputs": [],
   "source": [
    "# Renombramos 'genres_clean' como 'genres'\n",
    "steam_games = steam_games.rename(columns={'genres_clean': 'genres'})"
   ]
  },
  {
   "cell_type": "code",
   "execution_count": 54,
   "metadata": {},
   "outputs": [
    {
     "name": "stdout",
     "output_type": "stream",
     "text": [
      "<class 'pandas.core.frame.DataFrame'>\n",
      "Int64Index: 32133 entries, 0 to 32134\n",
      "Data columns (total 14 columns):\n",
      " #   Column        Non-Null Count  Dtype         \n",
      "---  ------        --------------  -----         \n",
      " 0   publisher     24081 non-null  object        \n",
      " 1   app_name      32131 non-null  object        \n",
      " 2   title         30083 non-null  object        \n",
      " 3   url           32133 non-null  object        \n",
      " 4   release_date  0 non-null      datetime64[ns]\n",
      " 5   tags          31970 non-null  object        \n",
      " 6   reviews_url   32132 non-null  object        \n",
      " 7   specs         31463 non-null  object        \n",
      " 8   price         32133 non-null  float64       \n",
      " 9   early_access  32133 non-null  object        \n",
      " 10  id            32132 non-null  object        \n",
      " 11  developer     28834 non-null  object        \n",
      " 12  release_year  0 non-null      float64       \n",
      " 13  genres        32133 non-null  object        \n",
      "dtypes: datetime64[ns](1), float64(2), object(11)\n",
      "memory usage: 4.7+ MB\n"
     ]
    }
   ],
   "source": [
    "steam_games.info() # obtenemos información de las columnas en búsqueda de nulos"
   ]
  },
  {
   "cell_type": "code",
   "execution_count": 55,
   "metadata": {},
   "outputs": [
    {
     "data": {
      "text/plain": [
       "publisher        25.058351\n",
       "app_name          0.006224\n",
       "title             6.379734\n",
       "url               0.000000\n",
       "release_date    100.000000\n",
       "tags              0.507267\n",
       "reviews_url       0.003112\n",
       "specs             2.085084\n",
       "price             0.000000\n",
       "early_access      0.000000\n",
       "id                0.003112\n",
       "developer        10.266704\n",
       "release_year    100.000000\n",
       "genres            0.000000\n",
       "dtype: float64"
      ]
     },
     "execution_count": 55,
     "metadata": {},
     "output_type": "execute_result"
    }
   ],
   "source": [
    "total_filas = len(steam_games)\n",
    "nulos_por_columna = steam_games.isnull().sum()\n",
    "porcentaje_nulos_por_columna = (nulos_por_columna / total_filas) * 100\n",
    "porcentaje_nulos_por_columna"
   ]
  },
  {
   "cell_type": "markdown",
   "metadata": {},
   "source": [
    "Eliminación de la columna Spece  dado que contiene \"Single-player\" ,  \"Multi-player\", \"Online Multi-Player\", considero\n",
    "que este tipo de información no es crucial para la recomendación de video juegos. \n"
   ]
  },
  {
   "cell_type": "code",
   "execution_count": 56,
   "metadata": {},
   "outputs": [],
   "source": [
    "steam_games = steam_games.drop('specs', axis=1)"
   ]
  },
  {
   "cell_type": "markdown",
   "metadata": {},
   "source": [
    "Observo que la columna \"publisher \" cuenta con un 25% y la columna \"developer\" con un 10 % de valores Nulos. \n",
    "Como suelen estar relativamente realcionadas, opto por aplicar una función que permita rellenar los valores Nulos, en la columna 'developer' y eliminar la columna 'publisher' esto último es porqué en la consigna nos piden en la función trabajar con \"desarrolladores\"  "
   ]
  },
  {
   "cell_type": "code",
   "execution_count": 57,
   "metadata": {},
   "outputs": [],
   "source": [
    "def fill_null_developers_with_publisher(row):\n",
    "    if pd.isnull(row['developer']):\n",
    "        return row['publisher']\n",
    "    return row['developer']\n",
    "\n",
    "# AplicaMOS la función a la columna 'developer'\n",
    "steam_games['developer'] = steam_games.apply(fill_null_developers_with_publisher, axis=1)"
   ]
  },
  {
   "cell_type": "code",
   "execution_count": 58,
   "metadata": {},
   "outputs": [
    {
     "name": "stdout",
     "output_type": "stream",
     "text": [
      "<class 'pandas.core.frame.DataFrame'>\n",
      "Int64Index: 32133 entries, 0 to 32134\n",
      "Data columns (total 13 columns):\n",
      " #   Column        Non-Null Count  Dtype         \n",
      "---  ------        --------------  -----         \n",
      " 0   publisher     24081 non-null  object        \n",
      " 1   app_name      32131 non-null  object        \n",
      " 2   title         30083 non-null  object        \n",
      " 3   url           32133 non-null  object        \n",
      " 4   release_date  0 non-null      datetime64[ns]\n",
      " 5   tags          31970 non-null  object        \n",
      " 6   reviews_url   32132 non-null  object        \n",
      " 7   price         32133 non-null  float64       \n",
      " 8   early_access  32133 non-null  object        \n",
      " 9   id            32132 non-null  object        \n",
      " 10  developer     28899 non-null  object        \n",
      " 11  release_year  0 non-null      float64       \n",
      " 12  genres        32133 non-null  object        \n",
      "dtypes: datetime64[ns](1), float64(2), object(10)\n",
      "memory usage: 4.4+ MB\n"
     ]
    }
   ],
   "source": [
    "steam_games.info()"
   ]
  },
  {
   "cell_type": "code",
   "execution_count": 59,
   "metadata": {},
   "outputs": [],
   "source": [
    "# Eliminamos la columna 'publisher'\n",
    "steam_games = steam_games.drop('publisher', axis=1)"
   ]
  },
  {
   "cell_type": "markdown",
   "metadata": {},
   "source": [
    "Para evitar el sesgo que podría generar rellenar los campos Nulos de la columna \"developer\" con 'No Data', decido\n",
    "eliminar las filas de valores Nulos, ya que esta columna tiene mucha importancia para los endpoints. \n"
   ]
  },
  {
   "cell_type": "code",
   "execution_count": 60,
   "metadata": {},
   "outputs": [],
   "source": [
    "# Filtramos y mantenemos solo las filas donde 'developer' no sea nulo\n",
    "steam_games = steam_games[steam_games['developer'].notnull()]\n",
    "\n",
    "# Reestablecemos los índices despúes de filtrar\n",
    "steam_games = steam_games.reset_index(drop=True)"
   ]
  },
  {
   "cell_type": "markdown",
   "metadata": {},
   "source": [
    "Columna Id"
   ]
  },
  {
   "cell_type": "code",
   "execution_count": 61,
   "metadata": {},
   "outputs": [],
   "source": [
    "# Rellenamos los valores NaN en la columna 'id' con 'No Data'\n",
    "steam_games['id'] = steam_games['id'].fillna('No Data')\n",
    "\n",
    "# Convertimos la columna 'id' a tipo string\n",
    "steam_games['id'] = steam_games['id'].astype(str)"
   ]
  },
  {
   "cell_type": "code",
   "execution_count": 62,
   "metadata": {},
   "outputs": [],
   "source": [
    "# Renombramos la columna 'id' como 'item_id'\n",
    "steam_games = steam_games.rename(columns={'id': 'item_id'})"
   ]
  },
  {
   "cell_type": "code",
   "execution_count": 63,
   "metadata": {},
   "outputs": [
    {
     "name": "stdout",
     "output_type": "stream",
     "text": [
      "<class 'pandas.core.frame.DataFrame'>\n",
      "RangeIndex: 28899 entries, 0 to 28898\n",
      "Data columns (total 12 columns):\n",
      " #   Column        Non-Null Count  Dtype         \n",
      "---  ------        --------------  -----         \n",
      " 0   app_name      28899 non-null  object        \n",
      " 1   title         28899 non-null  object        \n",
      " 2   url           28899 non-null  object        \n",
      " 3   release_date  0 non-null      datetime64[ns]\n",
      " 4   tags          28761 non-null  object        \n",
      " 5   reviews_url   28899 non-null  object        \n",
      " 6   price         28899 non-null  float64       \n",
      " 7   early_access  28899 non-null  object        \n",
      " 8   item_id       28899 non-null  object        \n",
      " 9   developer     28899 non-null  object        \n",
      " 10  release_year  0 non-null      float64       \n",
      " 11  genres        28899 non-null  object        \n",
      "dtypes: datetime64[ns](1), float64(2), object(9)\n",
      "memory usage: 2.6+ MB\n"
     ]
    }
   ],
   "source": [
    "# Verificamos la información de las columnas\n",
    "steam_games.info()"
   ]
  },
  {
   "cell_type": "markdown",
   "metadata": {},
   "source": [
    "Las columnas early_access , url,reviews_url no genera importancia para nuestro análisis, por lo tanto se\n",
    "procede a eliminarlas. "
   ]
  },
  {
   "cell_type": "code",
   "execution_count": 64,
   "metadata": {},
   "outputs": [],
   "source": [
    "# Eliminamos las columnas 'early_access', 'url' y 'reviews_url'\n",
    "steam_games = steam_games.drop(['early_access', 'url', 'reviews_url'], axis=1)"
   ]
  },
  {
   "cell_type": "markdown",
   "metadata": {},
   "source": [
    "Columnas appa_name y title \n",
    "app_name cuenta con un porcentaje de:  0.006% datos Nulos \n",
    "title cuenta con un porcentaje de: 6, 37% datso Nulos \n",
    "Ambas estan realcionadas, decido eliminar la columna \"title\""
   ]
  },
  {
   "cell_type": "code",
   "execution_count": 65,
   "metadata": {},
   "outputs": [
    {
     "name": "stdout",
     "output_type": "stream",
     "text": [
      "<class 'pandas.core.frame.DataFrame'>\n",
      "RangeIndex: 28899 entries, 0 to 28898\n",
      "Data columns (total 8 columns):\n",
      " #   Column        Non-Null Count  Dtype         \n",
      "---  ------        --------------  -----         \n",
      " 0   app_name      28899 non-null  object        \n",
      " 1   release_date  0 non-null      datetime64[ns]\n",
      " 2   tags          28761 non-null  object        \n",
      " 3   price         28899 non-null  float64       \n",
      " 4   item_id       28899 non-null  object        \n",
      " 5   developer     28899 non-null  object        \n",
      " 6   release_year  0 non-null      float64       \n",
      " 7   genres        28899 non-null  object        \n",
      "dtypes: datetime64[ns](1), float64(2), object(5)\n",
      "memory usage: 1.8+ MB\n"
     ]
    }
   ],
   "source": [
    "# Eliminamos la columna 'title'\n",
    "steam_games = steam_games.drop('title', axis=1)\n",
    "steam_games.info()"
   ]
  },
  {
   "cell_type": "markdown",
   "metadata": {},
   "source": [
    "Guardo el dataset como archivo csv"
   ]
  },
  {
   "cell_type": "code",
   "execution_count": 66,
   "metadata": {},
   "outputs": [],
   "source": [
    "steam_games.to_csv(\"Data/steam_games.csv\", index=False, encoding=\"utf-8\")"
   ]
  },
  {
   "cell_type": "markdown",
   "metadata": {},
   "source": [
    "Convierto el archivo csv a archivo parquet, como lo vengo realizando en los otros dataset, de optimizar \n",
    "el almacenamiento y mejorar la eficiencia en lectrura y escritura. "
   ]
  },
  {
   "cell_type": "code",
   "execution_count": 67,
   "metadata": {},
   "outputs": [],
   "source": [
    "steam_games = pd.read_csv(\"Data/steam_games.csv\") # leemos el archivo csv\n",
    "\n",
    "tabla = pa.Table.from_pandas(steam_games) # convertimos el dataframe en una tabla\n",
    "pq.write_table(tabla,\"Data/steam_games.parquet\") # guardamos la tabla en un archivo parquet"
   ]
  }
 ],
 "metadata": {
  "kernelspec": {
   "display_name": "Python 3",
   "language": "python",
   "name": "python3"
  },
  "language_info": {
   "codemirror_mode": {
    "name": "ipython",
    "version": 3
   },
   "file_extension": ".py",
   "mimetype": "text/x-python",
   "name": "python",
   "nbconvert_exporter": "python",
   "pygments_lexer": "ipython3",
   "version": "3.10.11"
  }
 },
 "nbformat": 4,
 "nbformat_minor": 2
}
