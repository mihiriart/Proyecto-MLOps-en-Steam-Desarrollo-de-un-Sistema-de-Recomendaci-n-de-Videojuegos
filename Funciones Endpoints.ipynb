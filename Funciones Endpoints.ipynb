{
 "cells": [
  {
   "cell_type": "markdown",
   "metadata": {},
   "source": [
    "Creamos las funciones de Endpoints\n",
    "Importamos las librerías "
   ]
  },
  {
   "cell_type": "code",
   "execution_count": 1,
   "metadata": {},
   "outputs": [],
   "source": [
    "import pandas as pd\n",
    "import pyarrow as pa\n",
    "import pyarrow.parquet as pq\n",
    "import warnings\n",
    "warnings.filterwarnings('ignore')\n",
    "from typing import Dict, List\n",
    "\n"
   ]
  },
  {
   "cell_type": "markdown",
   "metadata": {},
   "source": [
    "Las funciones las voy a realizar con el archivo parquet"
   ]
  },
  {
   "cell_type": "markdown",
   "metadata": {},
   "source": [
    "Cargo el Dataset de juegos "
   ]
  },
  {
   "cell_type": "code",
   "execution_count": 2,
   "metadata": {},
   "outputs": [
    {
     "data": {
      "text/html": [
       "<div>\n",
       "<style scoped>\n",
       "    .dataframe tbody tr th:only-of-type {\n",
       "        vertical-align: middle;\n",
       "    }\n",
       "\n",
       "    .dataframe tbody tr th {\n",
       "        vertical-align: top;\n",
       "    }\n",
       "\n",
       "    .dataframe thead th {\n",
       "        text-align: right;\n",
       "    }\n",
       "</style>\n",
       "<table border=\"1\" class=\"dataframe\">\n",
       "  <thead>\n",
       "    <tr style=\"text-align: right;\">\n",
       "      <th></th>\n",
       "      <th>app_name</th>\n",
       "      <th>release_date</th>\n",
       "      <th>price</th>\n",
       "      <th>item_id</th>\n",
       "      <th>developer</th>\n",
       "      <th>release_year</th>\n",
       "      <th>genres_clean</th>\n",
       "      <th>user_id</th>\n",
       "      <th>posted</th>\n",
       "      <th>recommend</th>\n",
       "      <th>posted_year</th>\n",
       "      <th>sentiment_analysis</th>\n",
       "    </tr>\n",
       "  </thead>\n",
       "  <tbody>\n",
       "    <tr>\n",
       "      <th>0</th>\n",
       "      <td>Pirates, Vikings, and Knights II</td>\n",
       "      <td>2010-02-12 00:00:00.000000000</td>\n",
       "      <td>0.0</td>\n",
       "      <td>17570</td>\n",
       "      <td>Octoshark Studios</td>\n",
       "      <td>2010</td>\n",
       "      <td>Action</td>\n",
       "      <td>76561198010653835</td>\n",
       "      <td>2015-04-07</td>\n",
       "      <td>True</td>\n",
       "      <td>2015</td>\n",
       "      <td>2</td>\n",
       "    </tr>\n",
       "    <tr>\n",
       "      <th>1</th>\n",
       "      <td>Pirates, Vikings, and Knights II</td>\n",
       "      <td>2010-02-12 00:00:00.000000000</td>\n",
       "      <td>0.0</td>\n",
       "      <td>17570</td>\n",
       "      <td>Octoshark Studios</td>\n",
       "      <td>2010</td>\n",
       "      <td>Action</td>\n",
       "      <td>76561198075581042</td>\n",
       "      <td>2014-03-09</td>\n",
       "      <td>True</td>\n",
       "      <td>2014</td>\n",
       "      <td>2</td>\n",
       "    </tr>\n",
       "    <tr>\n",
       "      <th>2</th>\n",
       "      <td>Pirates, Vikings, and Knights II</td>\n",
       "      <td>2010-02-12 00:00:00.000000000</td>\n",
       "      <td>0.0</td>\n",
       "      <td>17570</td>\n",
       "      <td>Octoshark Studios</td>\n",
       "      <td>2010</td>\n",
       "      <td>Action</td>\n",
       "      <td>GameBrak</td>\n",
       "      <td>2015-06-26</td>\n",
       "      <td>True</td>\n",
       "      <td>2015</td>\n",
       "      <td>2</td>\n",
       "    </tr>\n",
       "    <tr>\n",
       "      <th>3</th>\n",
       "      <td>Pirates, Vikings, and Knights II</td>\n",
       "      <td>2010-02-12 00:00:00.000000000</td>\n",
       "      <td>0.0</td>\n",
       "      <td>17570</td>\n",
       "      <td>Octoshark Studios</td>\n",
       "      <td>2010</td>\n",
       "      <td>Action</td>\n",
       "      <td>CjDoesIntros</td>\n",
       "      <td>2014-02-05</td>\n",
       "      <td>True</td>\n",
       "      <td>2014</td>\n",
       "      <td>1</td>\n",
       "    </tr>\n",
       "    <tr>\n",
       "      <th>4</th>\n",
       "      <td>Pirates, Vikings, and Knights II</td>\n",
       "      <td>2010-02-12 00:00:00.000000000</td>\n",
       "      <td>0.0</td>\n",
       "      <td>17570</td>\n",
       "      <td>Octoshark Studios</td>\n",
       "      <td>2010</td>\n",
       "      <td>Action</td>\n",
       "      <td>76561198075920681</td>\n",
       "      <td>2015-06-07</td>\n",
       "      <td>True</td>\n",
       "      <td>2015</td>\n",
       "      <td>1</td>\n",
       "    </tr>\n",
       "  </tbody>\n",
       "</table>\n",
       "</div>"
      ],
      "text/plain": [
       "                           app_name                   release_date  price  \\\n",
       "0  Pirates, Vikings, and Knights II  2010-02-12 00:00:00.000000000    0.0   \n",
       "1  Pirates, Vikings, and Knights II  2010-02-12 00:00:00.000000000    0.0   \n",
       "2  Pirates, Vikings, and Knights II  2010-02-12 00:00:00.000000000    0.0   \n",
       "3  Pirates, Vikings, and Knights II  2010-02-12 00:00:00.000000000    0.0   \n",
       "4  Pirates, Vikings, and Knights II  2010-02-12 00:00:00.000000000    0.0   \n",
       "\n",
       "   item_id          developer  release_year genres_clean            user_id  \\\n",
       "0    17570  Octoshark Studios          2010       Action  76561198010653835   \n",
       "1    17570  Octoshark Studios          2010       Action  76561198075581042   \n",
       "2    17570  Octoshark Studios          2010       Action           GameBrak   \n",
       "3    17570  Octoshark Studios          2010       Action       CjDoesIntros   \n",
       "4    17570  Octoshark Studios          2010       Action  76561198075920681   \n",
       "\n",
       "       posted  recommend  posted_year  sentiment_analysis  \n",
       "0  2015-04-07       True         2015                   2  \n",
       "1  2014-03-09       True         2014                   2  \n",
       "2  2015-06-26       True         2015                   2  \n",
       "3  2014-02-05       True         2014                   1  \n",
       "4  2015-06-07       True         2015                   1  "
      ]
     },
     "execution_count": 2,
     "metadata": {},
     "output_type": "execute_result"
    }
   ],
   "source": [
    "df_games = pd.read_parquet(\"Data/games_reviews.parquet\") # Cargamos el dataset de juegos\n",
    "df_games.head()"
   ]
  },
  {
   "cell_type": "code",
   "execution_count": 3,
   "metadata": {},
   "outputs": [
    {
     "data": {
      "text/html": [
       "<div>\n",
       "<style scoped>\n",
       "    .dataframe tbody tr th:only-of-type {\n",
       "        vertical-align: middle;\n",
       "    }\n",
       "\n",
       "    .dataframe tbody tr th {\n",
       "        vertical-align: top;\n",
       "    }\n",
       "\n",
       "    .dataframe thead th {\n",
       "        text-align: right;\n",
       "    }\n",
       "</style>\n",
       "<table border=\"1\" class=\"dataframe\">\n",
       "  <thead>\n",
       "    <tr style=\"text-align: right;\">\n",
       "      <th></th>\n",
       "      <th>item_id</th>\n",
       "      <th>item_name</th>\n",
       "      <th>steam_id</th>\n",
       "      <th>items_count</th>\n",
       "      <th>user_id</th>\n",
       "      <th>playtime_hours</th>\n",
       "    </tr>\n",
       "  </thead>\n",
       "  <tbody>\n",
       "    <tr>\n",
       "      <th>0</th>\n",
       "      <td>10</td>\n",
       "      <td>Counter-Strike</td>\n",
       "      <td>76561197970982479</td>\n",
       "      <td>277</td>\n",
       "      <td>76561197970982479</td>\n",
       "      <td>0.10</td>\n",
       "    </tr>\n",
       "    <tr>\n",
       "      <th>1</th>\n",
       "      <td>30</td>\n",
       "      <td>Day of Defeat</td>\n",
       "      <td>76561197970982479</td>\n",
       "      <td>277</td>\n",
       "      <td>76561197970982479</td>\n",
       "      <td>0.12</td>\n",
       "    </tr>\n",
       "    <tr>\n",
       "      <th>2</th>\n",
       "      <td>300</td>\n",
       "      <td>Day of Defeat: Source</td>\n",
       "      <td>76561197970982479</td>\n",
       "      <td>277</td>\n",
       "      <td>76561197970982479</td>\n",
       "      <td>78.88</td>\n",
       "    </tr>\n",
       "    <tr>\n",
       "      <th>3</th>\n",
       "      <td>240</td>\n",
       "      <td>Counter-Strike: Source</td>\n",
       "      <td>76561197970982479</td>\n",
       "      <td>277</td>\n",
       "      <td>76561197970982479</td>\n",
       "      <td>30.88</td>\n",
       "    </tr>\n",
       "    <tr>\n",
       "      <th>4</th>\n",
       "      <td>3830</td>\n",
       "      <td>Psychonauts</td>\n",
       "      <td>76561197970982479</td>\n",
       "      <td>277</td>\n",
       "      <td>76561197970982479</td>\n",
       "      <td>5.55</td>\n",
       "    </tr>\n",
       "  </tbody>\n",
       "</table>\n",
       "</div>"
      ],
      "text/plain": [
       "   item_id               item_name           steam_id  items_count  \\\n",
       "0       10          Counter-Strike  76561197970982479          277   \n",
       "1       30           Day of Defeat  76561197970982479          277   \n",
       "2      300   Day of Defeat: Source  76561197970982479          277   \n",
       "3      240  Counter-Strike: Source  76561197970982479          277   \n",
       "4     3830             Psychonauts  76561197970982479          277   \n",
       "\n",
       "             user_id  playtime_hours  \n",
       "0  76561197970982479            0.10  \n",
       "1  76561197970982479            0.12  \n",
       "2  76561197970982479           78.88  \n",
       "3  76561197970982479           30.88  \n",
       "4  76561197970982479            5.55  "
      ]
     },
     "execution_count": 3,
     "metadata": {},
     "output_type": "execute_result"
    }
   ],
   "source": [
    "df_user_items = pd.read_parquet(\"Data/users_items.parquet\") # Cargamos el dataset de items\n",
    "df_user_items.head()"
   ]
  },
  {
   "cell_type": "code",
   "execution_count": 5,
   "metadata": {},
   "outputs": [
    {
     "data": {
      "text/html": [
       "<div>\n",
       "<style scoped>\n",
       "    .dataframe tbody tr th:only-of-type {\n",
       "        vertical-align: middle;\n",
       "    }\n",
       "\n",
       "    .dataframe tbody tr th {\n",
       "        vertical-align: top;\n",
       "    }\n",
       "\n",
       "    .dataframe thead th {\n",
       "        text-align: right;\n",
       "    }\n",
       "</style>\n",
       "<table border=\"1\" class=\"dataframe\">\n",
       "  <thead>\n",
       "    <tr style=\"text-align: right;\">\n",
       "      <th></th>\n",
       "      <th>app_name</th>\n",
       "      <th>release_date</th>\n",
       "      <th>price</th>\n",
       "      <th>item_id</th>\n",
       "      <th>developer</th>\n",
       "      <th>release_year</th>\n",
       "      <th>genres_clean</th>\n",
       "      <th>user_id</th>\n",
       "      <th>posted</th>\n",
       "      <th>recommend</th>\n",
       "      <th>posted_year</th>\n",
       "      <th>sentiment_analysis</th>\n",
       "    </tr>\n",
       "  </thead>\n",
       "  <tbody>\n",
       "    <tr>\n",
       "      <th>0</th>\n",
       "      <td>Pirates, Vikings, and Knights II</td>\n",
       "      <td>2010-02-12 00:00:00.000000000</td>\n",
       "      <td>0.0</td>\n",
       "      <td>17570</td>\n",
       "      <td>Octoshark Studios</td>\n",
       "      <td>2010</td>\n",
       "      <td>Action</td>\n",
       "      <td>76561198010653835</td>\n",
       "      <td>2015-04-07</td>\n",
       "      <td>True</td>\n",
       "      <td>2015</td>\n",
       "      <td>2</td>\n",
       "    </tr>\n",
       "    <tr>\n",
       "      <th>1</th>\n",
       "      <td>Pirates, Vikings, and Knights II</td>\n",
       "      <td>2010-02-12 00:00:00.000000000</td>\n",
       "      <td>0.0</td>\n",
       "      <td>17570</td>\n",
       "      <td>Octoshark Studios</td>\n",
       "      <td>2010</td>\n",
       "      <td>Action</td>\n",
       "      <td>76561198075581042</td>\n",
       "      <td>2014-03-09</td>\n",
       "      <td>True</td>\n",
       "      <td>2014</td>\n",
       "      <td>2</td>\n",
       "    </tr>\n",
       "    <tr>\n",
       "      <th>2</th>\n",
       "      <td>Pirates, Vikings, and Knights II</td>\n",
       "      <td>2010-02-12 00:00:00.000000000</td>\n",
       "      <td>0.0</td>\n",
       "      <td>17570</td>\n",
       "      <td>Octoshark Studios</td>\n",
       "      <td>2010</td>\n",
       "      <td>Action</td>\n",
       "      <td>GameBrak</td>\n",
       "      <td>2015-06-26</td>\n",
       "      <td>True</td>\n",
       "      <td>2015</td>\n",
       "      <td>2</td>\n",
       "    </tr>\n",
       "    <tr>\n",
       "      <th>3</th>\n",
       "      <td>Pirates, Vikings, and Knights II</td>\n",
       "      <td>2010-02-12 00:00:00.000000000</td>\n",
       "      <td>0.0</td>\n",
       "      <td>17570</td>\n",
       "      <td>Octoshark Studios</td>\n",
       "      <td>2010</td>\n",
       "      <td>Action</td>\n",
       "      <td>CjDoesIntros</td>\n",
       "      <td>2014-02-05</td>\n",
       "      <td>True</td>\n",
       "      <td>2014</td>\n",
       "      <td>1</td>\n",
       "    </tr>\n",
       "    <tr>\n",
       "      <th>4</th>\n",
       "      <td>Pirates, Vikings, and Knights II</td>\n",
       "      <td>2010-02-12 00:00:00.000000000</td>\n",
       "      <td>0.0</td>\n",
       "      <td>17570</td>\n",
       "      <td>Octoshark Studios</td>\n",
       "      <td>2010</td>\n",
       "      <td>Action</td>\n",
       "      <td>76561198075920681</td>\n",
       "      <td>2015-06-07</td>\n",
       "      <td>True</td>\n",
       "      <td>2015</td>\n",
       "      <td>1</td>\n",
       "    </tr>\n",
       "  </tbody>\n",
       "</table>\n",
       "</div>"
      ],
      "text/plain": [
       "                           app_name                   release_date  price  \\\n",
       "0  Pirates, Vikings, and Knights II  2010-02-12 00:00:00.000000000    0.0   \n",
       "1  Pirates, Vikings, and Knights II  2010-02-12 00:00:00.000000000    0.0   \n",
       "2  Pirates, Vikings, and Knights II  2010-02-12 00:00:00.000000000    0.0   \n",
       "3  Pirates, Vikings, and Knights II  2010-02-12 00:00:00.000000000    0.0   \n",
       "4  Pirates, Vikings, and Knights II  2010-02-12 00:00:00.000000000    0.0   \n",
       "\n",
       "   item_id          developer  release_year genres_clean            user_id  \\\n",
       "0    17570  Octoshark Studios          2010       Action  76561198010653835   \n",
       "1    17570  Octoshark Studios          2010       Action  76561198075581042   \n",
       "2    17570  Octoshark Studios          2010       Action           GameBrak   \n",
       "3    17570  Octoshark Studios          2010       Action       CjDoesIntros   \n",
       "4    17570  Octoshark Studios          2010       Action  76561198075920681   \n",
       "\n",
       "       posted  recommend  posted_year  sentiment_analysis  \n",
       "0  2015-04-07       True         2015                   2  \n",
       "1  2014-03-09       True         2014                   2  \n",
       "2  2015-06-26       True         2015                   2  \n",
       "3  2014-02-05       True         2014                   1  \n",
       "4  2015-06-07       True         2015                   1  "
      ]
     },
     "execution_count": 5,
     "metadata": {},
     "output_type": "execute_result"
    }
   ],
   "source": [
    "df_games_and_reviews = pd.read_parquet(\"Data/games_reviews.parquet\") # Cargamos el dataset de reviews\n",
    "df_games_and_reviews.head()"
   ]
  },
  {
   "cell_type": "markdown",
   "metadata": {},
   "source": [
    "Función PlayTimeGamer"
   ]
  },
  {
   "cell_type": "markdown",
   "metadata": {},
   "source": [
    "La función PlayTimeGamer sirve para calcular y encontrar el tiempo total de juego registrado en horas para juegos específicos en un conjunto de datos. Esta función ayuda a identificar cuántas horas han sido jugadas en total para cada juego, lo que puede ser útil para analizar la popularidad o el tiempo dedicado a juegos individuales en una plataforma de juegos como Steam."
   ]
  },
  {
   "cell_type": "code",
   "execution_count": 12,
   "metadata": {},
   "outputs": [],
   "source": [
    "def PlayTimeGenre(genero, df_games: pd.DataFrame, df_user_items: pd.DataFrame, half_size: int):\n",
    "    # Convertimos el género proporcionado a minúsculas para una comparación sin distinción de mayúsculas\n",
    "    genero = genero.lower()\n",
    "\n",
    "    # Filtramos los juegos por género de manera más flexible\n",
    "    df_filtered = df_games[df_games['genres_clean'].str.lower().str.contains(fr'\\b{genero}\\b', na=False)]\n",
    "\n",
    "    if not df_filtered.empty:\n",
    "        # Convertimos 'item_id' a tipo de dato object en ambos DataFrames\n",
    "        df_user_items['item_id'] = df_user_items['item_id'].astype(str)\n",
    "        df_filtered['item_id'] = df_filtered['item_id'].astype(str)\n",
    "\n",
    "        # Filtramos el DataFrame `df_games` para obtener solo la mitad\n",
    "        df_filtered = df_filtered.sample(frac=0.5, random_state=42)\n",
    "\n",
    "        # Fusionamos los DataFrames `df_user_items` y `df_filtered` por la columna `item_id`\n",
    "        df_merged = pd.merge(df_user_items, df_filtered[['item_id', 'release_year']], left_on='item_id', right_on='item_id')\n",
    "\n",
    "        # Verificamos si la longitud de df_filtered es mayor a cero, es decir, se encontraron géneros\n",
    "        result = {\"Año con más horas jugadas para el género {}: {}\".format(genero.capitalize(), df_merged.groupby('release_year')['playtime_hours'].sum().idxmax())}\n",
    "    else:\n",
    "        result = {\"Año con más horas jugadas para género {}: {}\".format(genero.capitalize(), \"Género no encontrado en la base de datos\")}\n",
    "\n",
    "    return result"
   ]
  },
  {
   "cell_type": "code",
   "execution_count": 13,
   "metadata": {},
   "outputs": [
    {
     "name": "stdout",
     "output_type": "stream",
     "text": [
      "{'Año con más horas jugadas para el género Sports: 2015'}\n"
     ]
    }
   ],
   "source": [
    "result = PlayTimeGenre(\"Sports\", df_games, df_user_items, half_size=500)\n",
    "print(result)"
   ]
  },
  {
   "cell_type": "markdown",
   "metadata": {},
   "source": [
    "Función UsersWorstDeveloper\n",
    "\n",
    "Esta función tiene como propósito identificar y proporcionar información sobre los desarrolladores de juegos menos recomendados por los usuarios en un año específico. Su objetivo es encontrar las empresas de desarrollo cuyos juegos hayan recibido críticas negativas por parte de los usuarios durante un periodo de tiempo determinado, lo que puede ser útil para evaluar la calidad o la recepción de los productos de estos estudios en un año en particular.\n",
    "\n"
   ]
  },
  {
   "cell_type": "code",
   "execution_count": 14,
   "metadata": {},
   "outputs": [],
   "source": [
    "def UsersWorstDeveloper(año: int, df_games_and_reviews: pd.DataFrame):\n",
    "    # Verificamos si el año está dentro del rango esperado\n",
    "    rango_aceptado = range(2010, 2016)\n",
    "    if año not in rango_aceptado:\n",
    "        return {\"message\": \"Mi base de datos solo tiene registros entre 2010 y 2015\"}\n",
    "\n",
    "    # Filtramos por comentarios no recomendados y sentiment_analysis negativo\n",
    "    df_filtered = df_games_and_reviews[(df_games_and_reviews['recommend'] == False) & (df_games_and_reviews['sentiment_analysis'] == 0)]\n",
    "\n",
    "    # Filtramos por el año deseado\n",
    "    df_filtered_year = df_filtered[df_filtered['release_year'] == año]\n",
    "\n",
    "    # Si no hay datos para el año, retornamos mensaje\n",
    "    if not df_filtered_year.empty:\n",
    "        # Obtener los top 3 desarrolladores con menos recomendaciones\n",
    "        top_developers = df_filtered_year['developer'].value_counts().head(3).reset_index()\n",
    "        top_developers = top_developers.rename(columns={'index': 'Puesto 1', 'developer': 'Desarrollador'})\n",
    "\n",
    "        # Modificamos la estructura del resultado\n",
    "        result = [{\"Puesto {}\".format(i + 1): desarrollador} for i, desarrollador in enumerate(top_developers['Desarrollador'])]\n",
    "    else:\n",
    "        result = {\"No hay juegos no recomendados para el año {}\".format(año)}\n",
    "\n",
    "    return result"
   ]
  },
  {
   "cell_type": "code",
   "execution_count": 15,
   "metadata": {},
   "outputs": [
    {
     "data": {
      "text/plain": [
       "[{'Puesto 1': 4}, {'Puesto 2': 3}, {'Puesto 3': 3}]"
      ]
     },
     "execution_count": 15,
     "metadata": {},
     "output_type": "execute_result"
    }
   ],
   "source": [
    "UsersWorstDeveloper(2010, df_games_and_reviews)"
   ]
  },
  {
   "cell_type": "markdown",
   "metadata": {},
   "source": [
    "Función UsersRecommend "
   ]
  },
  {
   "cell_type": "markdown",
   "metadata": {},
   "source": [
    "La función UsersRecommend está diseñada para encontrar y devolver los juegos más recomendados dentro de un rango de años específico en una base de datos de juegos. Ayuda a identificar los juegos que han recibido más recomendaciones positivas o neutrales, ayudando a los usuarios a descubrir los títulos más populares o bien valorados en ese período de tiempo."
   ]
  },
  {
   "cell_type": "code",
   "execution_count": 16,
   "metadata": {},
   "outputs": [],
   "source": [
    "def UsersRecommend(año: int, df_games_and_reviews: pd.DataFrame):\n",
    "    # Verificamos si el año está dentro del rango esperado\n",
    "    rango_aceptado = range(2007, 2010)\n",
    "    if año not in rango_aceptado:\n",
    "        return {\"message\": \"Mi base de datos tiene registros entre el 2007 y 2015\"}\n",
    "\n",
    "    # Filtramos por el año deseado\n",
    "    df_filtered = df_games_and_reviews[df_games_and_reviews['release_year'] == año]\n",
    "\n",
    "    # Filtramos por comentarios recomendados y sentiment_analysis positivo/neutral\n",
    "    df_filtered = df_filtered[(df_filtered['recommend'] == True) & df_filtered['sentiment_analysis'].isin(['Positive', 'Neutral'])]\n",
    "\n",
    "    # Obtenemos el top 3 de juegos recomendados\n",
    "    top_games = df_filtered['app_name'].value_counts().head(3).reset_index()\n",
    "    top_games = top_games.rename(columns={'index': 'Juego', 'app_name': 'Recomendaciones'})\n",
    "\n",
    "   \n",
    "  # Modificamos la estructura del resultado\n",
    "    resultado = [{\"Puesto {}\".format(i + 1): juego, 'Recomendaciones': count} for i, (juego, count) in enumerate(zip(top_games['Juego'], top_games['Recomendaciones']))]\n",
    "\n",
    "    return resultado  # Devolvemos la variable 'result' que contiene el resultado de la función \n",
    "     \n"
   ]
  },
  {
   "cell_type": "code",
   "execution_count": 17,
   "metadata": {},
   "outputs": [
    {
     "name": "stdout",
     "output_type": "stream",
     "text": [
      "{'message': 'Mi base de datos tiene registros entre el 2007 y 2015'}\n"
     ]
    }
   ],
   "source": [
    "# Llamamos a la función UsersRecommend con un año específico y el DataFrame correspondiente\n",
    "resultado = UsersRecommend(2010, df_games_and_reviews)\n",
    "\n",
    "# Imprimimos el resultado\n",
    "print(resultado)"
   ]
  },
  {
   "cell_type": "markdown",
   "metadata": {},
   "source": [
    "Función UserWorsDeveloper\n",
    "\n",
    "La función UserWorsDeveloper tiene como objetivo encontrar y proporcionar información sobre las desarrolladoras de juegos menos recomendadas por los usuarios en un año específico. "
   ]
  },
  {
   "cell_type": "code",
   "execution_count": 18,
   "metadata": {},
   "outputs": [],
   "source": [
    "def UsersWorstDeveloper(año: int, df_games_and_reviews: pd.DataFrame):\n",
    "    # Verificamos si el año está dentro del rango esperado\n",
    "    rango_aceptado = range(2010, 2016)\n",
    "    if año not in rango_aceptado:\n",
    "        return {\"message\": \"Mi base de datos solo tiene registros entre 2010 y 2015\"}\n",
    "\n",
    "    # Filtramos por comentarios no recomendados y sentiment_analysis negativo\n",
    "    df_filtered = df_games_and_reviews[(df_games_and_reviews['recommend'] == False) & (df_games_and_reviews['sentiment_analysis'] == 0)]\n",
    "\n",
    "    # Filtramos por el año deseado\n",
    "    df_filtered_year = df_filtered[df_filtered['release_year'] == año]\n",
    "\n",
    "    # Si no hay datos para el año, retornamos mensaje\n",
    "    if not df_filtered_year.empty:\n",
    "        # Obtener los top 3 desarrolladores con menos recomendaciones\n",
    "        top_developers = df_filtered_year['developer'].value_counts().head(3).reset_index()\n",
    "        top_developers = top_developers.rename(columns={'index': 'Puesto 1', 'developer': 'Desarrollador'})\n",
    "\n",
    "        # Modificamos la estructura del resultado\n",
    "        result = [{\"Puesto {}\".format(i + 1): desarrollador} for i, desarrollador in enumerate(top_developers['Desarrollador'])]\n",
    "    else:\n",
    "        result = {\"No hay juegos no recomendados para el año {}\".format(año)}\n",
    "\n",
    "    return result"
   ]
  },
  {
   "cell_type": "code",
   "execution_count": 19,
   "metadata": {},
   "outputs": [
    {
     "data": {
      "text/plain": [
       "[{'Puesto 1': 15}, {'Puesto 2': 10}, {'Puesto 3': 7}]"
      ]
     },
     "execution_count": 19,
     "metadata": {},
     "output_type": "execute_result"
    }
   ],
   "source": [
    "UsersWorstDeveloper(2015, df_games_and_reviews)"
   ]
  },
  {
   "cell_type": "markdown",
   "metadata": {},
   "source": [
    "Funcion sentiment_analysis"
   ]
  },
  {
   "cell_type": "code",
   "execution_count": 20,
   "metadata": {},
   "outputs": [],
   "source": [
    "def sentiment_analysis(empresa_desarrolladora: str, df_games_and_reviews: pd.DataFrame):\n",
    "    # Filtramos por desarrolladora\n",
    "    df_filtered_developer = df_games_and_reviews[df_games_and_reviews['developer'] == empresa_desarrolladora]\n",
    "\n",
    "    # Verificamos que haya datos para la desarrolladora\n",
    "    if not df_filtered_developer.empty:\n",
    "        # Contamos los sentimientos y mapeamos el número del sentimiento a su etiqueta correspondiente\n",
    "        sentiment_counts = df_filtered_developer['sentiment_analysis'].value_counts().reset_index(drop=True)\n",
    "        sentiment_mapping = {0: 'Negative', 1: 'Neutral', 2: 'Positive'}\n",
    "        sentiment_counts.index = sentiment_counts.index.map(sentiment_mapping)\n",
    "        \n",
    "        result = {empresa_desarrolladora: sentiment_counts.to_dict()}\n",
    "    else:\n",
    "        result = 'No cuento con los registros de esa empresa en mi base de datos'\n",
    "\n",
    "    return result"
   ]
  },
  {
   "cell_type": "code",
   "execution_count": 21,
   "metadata": {},
   "outputs": [
    {
     "data": {
      "text/plain": [
       "{'Treyarch': {'Negative': 155, 'Neutral': 121, 'Positive': 37}}"
      ]
     },
     "execution_count": 21,
     "metadata": {},
     "output_type": "execute_result"
    }
   ],
   "source": [
    "sentiment_analysis('Treyarch', df_games_and_reviews)"
   ]
  }
 ],
 "metadata": {
  "kernelspec": {
   "display_name": "Python 3",
   "language": "python",
   "name": "python3"
  },
  "language_info": {
   "codemirror_mode": {
    "name": "ipython",
    "version": 3
   },
   "file_extension": ".py",
   "mimetype": "text/x-python",
   "name": "python",
   "nbconvert_exporter": "python",
   "pygments_lexer": "ipython3",
   "version": "3.10.11"
  }
 },
 "nbformat": 4,
 "nbformat_minor": 2
}
